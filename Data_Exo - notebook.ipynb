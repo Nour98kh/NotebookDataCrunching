{
 "cells": [
  {
   "cell_type": "markdown",
   "metadata": {},
   "source": [
    "# Livrable  - Crunching de data"
   ]
  },
  {
   "cell_type": "markdown",
   "metadata": {},
   "source": [
    "Realized by : **KHELIFI Nour El Houda**\n",
    "\n",
    "\n",
    "In this notebook, I wish I have answered rightly to your questions and have clearly met your expectations. "
   ]
  },
  {
   "cell_type": "markdown",
   "metadata": {},
   "source": [
    "## Importation of necessary libraries and Data loading"
   ]
  },
  {
   "cell_type": "code",
   "execution_count": 2,
   "metadata": {},
   "outputs": [],
   "source": [
    "import pandas as pd\n",
    "from urllib.request import urlopen  \n",
    "import os.path as osp\n",
    "import os\n",
    "import logging\n",
    "import zipfile\n",
    "from glob import glob\n",
    "logging.getLogger().setLevel('INFO')\n",
    "import seaborn as sns\n",
    "import matplotlib.pyplot as plt\n",
    "import numpy as np"
   ]
  },
  {
   "cell_type": "code",
   "execution_count": 3,
   "metadata": {},
   "outputs": [],
   "source": [
    "df = pd.read_csv('C:/Users/Nour/Downloads/data/cities.csv')\n",
    "df1 = pd.read_csv('C:/Users/Nour/Downloads/data/providers.csv')\n",
    "df2 = pd.read_csv('C:/Users/Nour/Downloads/data/stations.csv')\n",
    "df3 = pd.read_csv('C:/Users/Nour/Downloads/data/ticket_data.csv')"
   ]
  },
  {
   "cell_type": "markdown",
   "metadata": {},
   "source": [
    "## Dataframes manipulation"
   ]
  },
  {
   "cell_type": "markdown",
   "metadata": {},
   "source": [
    "### Cities DATASET "
   ]
  },
  {
   "cell_type": "code",
   "execution_count": 4,
   "metadata": {},
   "outputs": [
    {
     "name": "stdout",
     "output_type": "stream",
     "text": [
      "8040\n"
     ]
    }
   ],
   "source": [
    "index = df. index\n",
    "number_of_rows = len(index)\n",
    "print(number_of_rows)"
   ]
  },
  {
   "cell_type": "code",
   "execution_count": 5,
   "metadata": {},
   "outputs": [
    {
     "data": {
      "text/html": [
       "<div>\n",
       "<style scoped>\n",
       "    .dataframe tbody tr th:only-of-type {\n",
       "        vertical-align: middle;\n",
       "    }\n",
       "\n",
       "    .dataframe tbody tr th {\n",
       "        vertical-align: top;\n",
       "    }\n",
       "\n",
       "    .dataframe thead th {\n",
       "        text-align: right;\n",
       "    }\n",
       "</style>\n",
       "<table border=\"1\" class=\"dataframe\">\n",
       "  <thead>\n",
       "    <tr style=\"text-align: right;\">\n",
       "      <th></th>\n",
       "      <th>id</th>\n",
       "      <th>local_name</th>\n",
       "      <th>unique_name</th>\n",
       "      <th>latitude</th>\n",
       "      <th>longitude</th>\n",
       "      <th>population</th>\n",
       "    </tr>\n",
       "  </thead>\n",
       "  <tbody>\n",
       "    <tr>\n",
       "      <th>0</th>\n",
       "      <td>5159</td>\n",
       "      <td>Padua, Veneto, Italia</td>\n",
       "      <td>padua</td>\n",
       "      <td>45.406435</td>\n",
       "      <td>11.876761</td>\n",
       "      <td>209678.0</td>\n",
       "    </tr>\n",
       "    <tr>\n",
       "      <th>1</th>\n",
       "      <td>76</td>\n",
       "      <td>Barcelona, Cataluña, España</td>\n",
       "      <td>barcelona</td>\n",
       "      <td>41.385064</td>\n",
       "      <td>2.173404</td>\n",
       "      <td>1611822.0</td>\n",
       "    </tr>\n",
       "    <tr>\n",
       "      <th>2</th>\n",
       "      <td>81</td>\n",
       "      <td>Basel, Basel-Stadt, Schweiz</td>\n",
       "      <td>basel</td>\n",
       "      <td>47.593437</td>\n",
       "      <td>7.619812</td>\n",
       "      <td>NaN</td>\n",
       "    </tr>\n",
       "    <tr>\n",
       "      <th>3</th>\n",
       "      <td>259</td>\n",
       "      <td>Erlangen, Bayern, Deutschland</td>\n",
       "      <td>erlangen</td>\n",
       "      <td>49.589674</td>\n",
       "      <td>11.011961</td>\n",
       "      <td>105412.0</td>\n",
       "    </tr>\n",
       "    <tr>\n",
       "      <th>4</th>\n",
       "      <td>11979</td>\n",
       "      <td>Balș, Olt, România</td>\n",
       "      <td>balș</td>\n",
       "      <td>44.353354</td>\n",
       "      <td>24.095672</td>\n",
       "      <td>NaN</td>\n",
       "    </tr>\n",
       "  </tbody>\n",
       "</table>\n",
       "</div>"
      ],
      "text/plain": [
       "      id                     local_name unique_name   latitude  longitude  \\\n",
       "0   5159          Padua, Veneto, Italia       padua  45.406435  11.876761   \n",
       "1     76    Barcelona, Cataluña, España   barcelona  41.385064   2.173404   \n",
       "2     81    Basel, Basel-Stadt, Schweiz       basel  47.593437   7.619812   \n",
       "3    259  Erlangen, Bayern, Deutschland    erlangen  49.589674  11.011961   \n",
       "4  11979             Balș, Olt, România        balș  44.353354  24.095672   \n",
       "\n",
       "   population  \n",
       "0    209678.0  \n",
       "1   1611822.0  \n",
       "2         NaN  \n",
       "3    105412.0  \n",
       "4         NaN  "
      ]
     },
     "execution_count": 5,
     "metadata": {},
     "output_type": "execute_result"
    }
   ],
   "source": [
    "df.head()\n"
   ]
  },
  {
   "cell_type": "code",
   "execution_count": 6,
   "metadata": {},
   "outputs": [
    {
     "data": {
      "text/html": [
       "<div>\n",
       "<style scoped>\n",
       "    .dataframe tbody tr th:only-of-type {\n",
       "        vertical-align: middle;\n",
       "    }\n",
       "\n",
       "    .dataframe tbody tr th {\n",
       "        vertical-align: top;\n",
       "    }\n",
       "\n",
       "    .dataframe thead th {\n",
       "        text-align: right;\n",
       "    }\n",
       "</style>\n",
       "<table border=\"1\" class=\"dataframe\">\n",
       "  <thead>\n",
       "    <tr style=\"text-align: right;\">\n",
       "      <th></th>\n",
       "      <th>id</th>\n",
       "      <th>latitude</th>\n",
       "      <th>longitude</th>\n",
       "      <th>population</th>\n",
       "    </tr>\n",
       "  </thead>\n",
       "  <tbody>\n",
       "    <tr>\n",
       "      <th>count</th>\n",
       "      <td>8040.000000</td>\n",
       "      <td>8040.000000</td>\n",
       "      <td>8040.000000</td>\n",
       "      <td>3.690000e+02</td>\n",
       "    </tr>\n",
       "    <tr>\n",
       "      <th>mean</th>\n",
       "      <td>6328.786816</td>\n",
       "      <td>47.223456</td>\n",
       "      <td>6.299331</td>\n",
       "      <td>3.360184e+05</td>\n",
       "    </tr>\n",
       "    <tr>\n",
       "      <th>std</th>\n",
       "      <td>3504.698537</td>\n",
       "      <td>3.700934</td>\n",
       "      <td>7.747070</td>\n",
       "      <td>5.840409e+05</td>\n",
       "    </tr>\n",
       "    <tr>\n",
       "      <th>min</th>\n",
       "      <td>1.000000</td>\n",
       "      <td>1.370676</td>\n",
       "      <td>-101.397388</td>\n",
       "      <td>1.000460e+05</td>\n",
       "    </tr>\n",
       "    <tr>\n",
       "      <th>25%</th>\n",
       "      <td>2501.500000</td>\n",
       "      <td>44.662402</td>\n",
       "      <td>1.214282</td>\n",
       "      <td>1.253750e+05</td>\n",
       "    </tr>\n",
       "    <tr>\n",
       "      <th>50%</th>\n",
       "      <td>7003.500000</td>\n",
       "      <td>47.304750</td>\n",
       "      <td>4.887856</td>\n",
       "      <td>1.803020e+05</td>\n",
       "    </tr>\n",
       "    <tr>\n",
       "      <th>75%</th>\n",
       "      <td>9014.250000</td>\n",
       "      <td>49.611998</td>\n",
       "      <td>10.311597</td>\n",
       "      <td>3.098690e+05</td>\n",
       "    </tr>\n",
       "    <tr>\n",
       "      <th>max</th>\n",
       "      <td>12192.000000</td>\n",
       "      <td>64.145981</td>\n",
       "      <td>48.731938</td>\n",
       "      <td>8.416535e+06</td>\n",
       "    </tr>\n",
       "  </tbody>\n",
       "</table>\n",
       "</div>"
      ],
      "text/plain": [
       "                 id     latitude    longitude    population\n",
       "count   8040.000000  8040.000000  8040.000000  3.690000e+02\n",
       "mean    6328.786816    47.223456     6.299331  3.360184e+05\n",
       "std     3504.698537     3.700934     7.747070  5.840409e+05\n",
       "min        1.000000     1.370676  -101.397388  1.000460e+05\n",
       "25%     2501.500000    44.662402     1.214282  1.253750e+05\n",
       "50%     7003.500000    47.304750     4.887856  1.803020e+05\n",
       "75%     9014.250000    49.611998    10.311597  3.098690e+05\n",
       "max    12192.000000    64.145981    48.731938  8.416535e+06"
      ]
     },
     "execution_count": 6,
     "metadata": {},
     "output_type": "execute_result"
    }
   ],
   "source": [
    "df.describe()"
   ]
  },
  {
   "cell_type": "code",
   "execution_count": 7,
   "metadata": {},
   "outputs": [
    {
     "data": {
      "text/plain": [
       "(8040, 6)"
      ]
     },
     "execution_count": 7,
     "metadata": {},
     "output_type": "execute_result"
    }
   ],
   "source": [
    "df.shape"
   ]
  },
  {
   "cell_type": "code",
   "execution_count": 8,
   "metadata": {},
   "outputs": [
    {
     "name": "stdout",
     "output_type": "stream",
     "text": [
      "<class 'pandas.core.frame.DataFrame'>\n",
      "RangeIndex: 8040 entries, 0 to 8039\n",
      "Data columns (total 6 columns):\n",
      " #   Column       Non-Null Count  Dtype  \n",
      "---  ------       --------------  -----  \n",
      " 0   id           8040 non-null   int64  \n",
      " 1   local_name   8040 non-null   object \n",
      " 2   unique_name  8039 non-null   object \n",
      " 3   latitude     8040 non-null   float64\n",
      " 4   longitude    8040 non-null   float64\n",
      " 5   population   369 non-null    float64\n",
      "dtypes: float64(3), int64(1), object(2)\n",
      "memory usage: 377.0+ KB\n"
     ]
    }
   ],
   "source": [
    "df.info()"
   ]
  },
  {
   "cell_type": "code",
   "execution_count": 9,
   "metadata": {},
   "outputs": [
    {
     "data": {
      "text/plain": [
       "Index(['id', 'local_name', 'unique_name', 'latitude', 'longitude',\n",
       "       'population'],\n",
       "      dtype='object')"
      ]
     },
     "execution_count": 9,
     "metadata": {},
     "output_type": "execute_result"
    }
   ],
   "source": [
    "df.columns"
   ]
  },
  {
   "cell_type": "code",
   "execution_count": 10,
   "metadata": {},
   "outputs": [
    {
     "data": {
      "text/plain": [
       "<AxesSubplot:ylabel='None'>"
      ]
     },
     "execution_count": 10,
     "metadata": {},
     "output_type": "execute_result"
    },
    {
     "data": {
      "image/png": "[encoded data removed]",
      "text/plain": [
       "<Figure size 432x288 with 1 Axes>"
      ]
     },
     "metadata": {},
     "output_type": "display_data"
    }
   ],
   "source": [
    "#statistics for column types\n",
    "df.dtypes.value_counts().plot.pie()"
   ]
  },
  {
   "cell_type": "markdown",
   "metadata": {},
   "source": [
    "We notice that half the Cities dataset is of type float64 and the other half is partitioned into int64 and object type"
   ]
  },
  {
   "cell_type": "code",
   "execution_count": 11,
   "metadata": {},
   "outputs": [
    {
     "data": {
      "image/png": "[encoded data removed]",
      "text/plain": [
       "<Figure size 1440x864 with 1 Axes>"
      ]
     },
     "metadata": {
      "needs_background": "light"
     },
     "output_type": "display_data"
    }
   ],
   "source": [
    "import matplotlib.pyplot as plt \n",
    "dimensions = ['population']\n",
    "\n",
    "plt.figure(1, figsize=(20,12))\n",
    "\n",
    "for i in range(1,2):\n",
    "    plt.subplot(2,3,i)\n",
    "    df[dimensions[i-1]].plot(kind='hist', title=dimensions[i-1])"
   ]
  },
  {
   "cell_type": "markdown",
   "metadata": {},
   "source": [
    "Let's study the correlation of different features of Cities dataset :"
   ]
  },
  {
   "cell_type": "markdown",
   "metadata": {},
   "source": [
    "To verify the percentage of missing values in different Cities dataset columns, here we develop a function missing_values :"
   ]
  },
  {
   "cell_type": "code",
   "execution_count": 12,
   "metadata": {
    "scrolled": true
   },
   "outputs": [
    {
     "name": "stdout",
     "output_type": "stream",
     "text": [
      "unique_name: 1\n",
      "population: 7671\n"
     ]
    }
   ],
   "source": [
    "def missing_values():\n",
    "    missing_dict={}\n",
    "    for c in df.columns :\n",
    "        nb_missvalues_per_column = sum(df[c].isna())\n",
    "        if nb_missvalues_per_column>0 :\n",
    "            missing_dict[c] = nb_missvalues_per_column\n",
    "            \n",
    "    # Sort dictionary by value and print\n",
    "    for key, value in sorted(missing_dict.items(), key=lambda x: x[1]):\n",
    "        print(\"%s: %s\" % (key, value))\n",
    "missing_values()"
   ]
  },
  {
   "cell_type": "markdown",
   "metadata": {},
   "source": [
    "* The amount of rows with missing values in \"population\" presents a big quantity in comparison with the dataset size, and there is no easy way to infer its data so it might be best to drop it."
   ]
  },
  {
   "cell_type": "code",
   "execution_count": 13,
   "metadata": {},
   "outputs": [
    {
     "name": "stdout",
     "output_type": "stream",
     "text": [
      "Data entries before dropping: (8040, 6)\n",
      "----------------------------------------\n",
      "Data entries after dropping: (8040, 5)\n"
     ]
    }
   ],
   "source": [
    "# Drop entries with missing values in population\n",
    "print('Data entries before dropping:', df.shape) \n",
    "df.drop(['population'], axis=1, inplace=True)\n",
    "#cols = df.columns[df.isna().any()]\n",
    "#df1 = df.drop(cols, axis = 1)\n",
    "#print(df1)\n",
    "\n",
    "print(\"-\" * 40)\n",
    "#print('Data entries after dropping:', df1.shape[0])\n",
    "print('Data entries after dropping:', df.shape)"
   ]
  },
  {
   "cell_type": "markdown",
   "metadata": {},
   "source": [
    "### Providers DATASET : "
   ]
  },
  {
   "cell_type": "code",
   "execution_count": 14,
   "metadata": {},
   "outputs": [
    {
     "name": "stdout",
     "output_type": "stream",
     "text": [
      "227\n"
     ]
    }
   ],
   "source": [
    "index = df1. index\n",
    "number_of_rows1 = len(index)\n",
    "print(number_of_rows1)"
   ]
  },
  {
   "cell_type": "code",
   "execution_count": 15,
   "metadata": {},
   "outputs": [
    {
     "data": {
      "text/html": [
       "<div>\n",
       "<style scoped>\n",
       "    .dataframe tbody tr th:only-of-type {\n",
       "        vertical-align: middle;\n",
       "    }\n",
       "\n",
       "    .dataframe tbody tr th {\n",
       "        vertical-align: top;\n",
       "    }\n",
       "\n",
       "    .dataframe thead th {\n",
       "        text-align: right;\n",
       "    }\n",
       "</style>\n",
       "<table border=\"1\" class=\"dataframe\">\n",
       "  <thead>\n",
       "    <tr style=\"text-align: right;\">\n",
       "      <th></th>\n",
       "      <th>id</th>\n",
       "      <th>company_id</th>\n",
       "      <th>provider_id</th>\n",
       "      <th>name</th>\n",
       "      <th>fullname</th>\n",
       "      <th>has_wifi</th>\n",
       "      <th>has_plug</th>\n",
       "      <th>has_adjustable_seats</th>\n",
       "      <th>has_bicycle</th>\n",
       "      <th>transport_type</th>\n",
       "    </tr>\n",
       "  </thead>\n",
       "  <tbody>\n",
       "    <tr>\n",
       "      <th>0</th>\n",
       "      <td>9</td>\n",
       "      <td>1</td>\n",
       "      <td>NaN</td>\n",
       "      <td>ouibus</td>\n",
       "      <td>Ouibus</td>\n",
       "      <td>True</td>\n",
       "      <td>True</td>\n",
       "      <td>True</td>\n",
       "      <td>False</td>\n",
       "      <td>bus</td>\n",
       "    </tr>\n",
       "    <tr>\n",
       "      <th>1</th>\n",
       "      <td>10</td>\n",
       "      <td>2</td>\n",
       "      <td>NaN</td>\n",
       "      <td>deinbus</td>\n",
       "      <td>Deinbus.de</td>\n",
       "      <td>False</td>\n",
       "      <td>False</td>\n",
       "      <td>False</td>\n",
       "      <td>False</td>\n",
       "      <td>bus</td>\n",
       "    </tr>\n",
       "    <tr>\n",
       "      <th>2</th>\n",
       "      <td>11</td>\n",
       "      <td>3</td>\n",
       "      <td>NaN</td>\n",
       "      <td>infobus</td>\n",
       "      <td>Infobus</td>\n",
       "      <td>False</td>\n",
       "      <td>False</td>\n",
       "      <td>False</td>\n",
       "      <td>False</td>\n",
       "      <td>bus</td>\n",
       "    </tr>\n",
       "    <tr>\n",
       "      <th>3</th>\n",
       "      <td>12</td>\n",
       "      <td>4</td>\n",
       "      <td>NaN</td>\n",
       "      <td>studentAgency</td>\n",
       "      <td>Student Agency</td>\n",
       "      <td>False</td>\n",
       "      <td>False</td>\n",
       "      <td>False</td>\n",
       "      <td>False</td>\n",
       "      <td>bus</td>\n",
       "    </tr>\n",
       "    <tr>\n",
       "      <th>4</th>\n",
       "      <td>13</td>\n",
       "      <td>5</td>\n",
       "      <td>NaN</td>\n",
       "      <td>flixbus</td>\n",
       "      <td>Flixbus</td>\n",
       "      <td>True</td>\n",
       "      <td>False</td>\n",
       "      <td>False</td>\n",
       "      <td>False</td>\n",
       "      <td>bus</td>\n",
       "    </tr>\n",
       "    <tr>\n",
       "      <th>...</th>\n",
       "      <td>...</td>\n",
       "      <td>...</td>\n",
       "      <td>...</td>\n",
       "      <td>...</td>\n",
       "      <td>...</td>\n",
       "      <td>...</td>\n",
       "      <td>...</td>\n",
       "      <td>...</td>\n",
       "      <td>...</td>\n",
       "      <td>...</td>\n",
       "    </tr>\n",
       "    <tr>\n",
       "      <th>95</th>\n",
       "      <td>109</td>\n",
       "      <td>9</td>\n",
       "      <td>377</td>\n",
       "      <td>kkklExpress</td>\n",
       "      <td>KKKL Express</td>\n",
       "      <td>False</td>\n",
       "      <td>False</td>\n",
       "      <td>False</td>\n",
       "      <td>False</td>\n",
       "      <td>bus</td>\n",
       "    </tr>\n",
       "    <tr>\n",
       "      <th>96</th>\n",
       "      <td>110</td>\n",
       "      <td>9</td>\n",
       "      <td>379</td>\n",
       "      <td>kmkStarcoach</td>\n",
       "      <td>KMK Starcoach</td>\n",
       "      <td>False</td>\n",
       "      <td>False</td>\n",
       "      <td>False</td>\n",
       "      <td>False</td>\n",
       "      <td>bus</td>\n",
       "    </tr>\n",
       "    <tr>\n",
       "      <th>97</th>\n",
       "      <td>111</td>\n",
       "      <td>9</td>\n",
       "      <td>381</td>\n",
       "      <td>komtarGunungRaya</td>\n",
       "      <td>Komtar Gunung Raya</td>\n",
       "      <td>False</td>\n",
       "      <td>False</td>\n",
       "      <td>False</td>\n",
       "      <td>False</td>\n",
       "      <td>bus</td>\n",
       "    </tr>\n",
       "    <tr>\n",
       "      <th>98</th>\n",
       "      <td>112</td>\n",
       "      <td>9</td>\n",
       "      <td>383</td>\n",
       "      <td>konsortiumBasEkspres</td>\n",
       "      <td>Konsortium Bas Ekspres</td>\n",
       "      <td>False</td>\n",
       "      <td>False</td>\n",
       "      <td>False</td>\n",
       "      <td>False</td>\n",
       "      <td>bus</td>\n",
       "    </tr>\n",
       "    <tr>\n",
       "      <th>99</th>\n",
       "      <td>113</td>\n",
       "      <td>9</td>\n",
       "      <td>385</td>\n",
       "      <td>kpbExpress</td>\n",
       "      <td>KPB Express</td>\n",
       "      <td>False</td>\n",
       "      <td>False</td>\n",
       "      <td>False</td>\n",
       "      <td>False</td>\n",
       "      <td>bus</td>\n",
       "    </tr>\n",
       "  </tbody>\n",
       "</table>\n",
       "<p>100 rows × 10 columns</p>\n",
       "</div>"
      ],
      "text/plain": [
       "     id  company_id provider_id                  name                fullname  \\\n",
       "0     9           1         NaN                ouibus                  Ouibus   \n",
       "1    10           2         NaN               deinbus              Deinbus.de   \n",
       "2    11           3         NaN               infobus                 Infobus   \n",
       "3    12           4         NaN         studentAgency          Student Agency   \n",
       "4    13           5         NaN               flixbus                 Flixbus   \n",
       "..  ...         ...         ...                   ...                     ...   \n",
       "95  109           9         377           kkklExpress            KKKL Express   \n",
       "96  110           9         379          kmkStarcoach           KMK Starcoach   \n",
       "97  111           9         381      komtarGunungRaya      Komtar Gunung Raya   \n",
       "98  112           9         383  konsortiumBasEkspres  Konsortium Bas Ekspres   \n",
       "99  113           9         385            kpbExpress             KPB Express   \n",
       "\n",
       "   has_wifi has_plug has_adjustable_seats has_bicycle transport_type  \n",
       "0      True     True                 True       False            bus  \n",
       "1     False    False                False       False            bus  \n",
       "2     False    False                False       False            bus  \n",
       "3     False    False                False       False            bus  \n",
       "4      True    False                False       False            bus  \n",
       "..      ...      ...                  ...         ...            ...  \n",
       "95    False    False                False       False            bus  \n",
       "96    False    False                False       False            bus  \n",
       "97    False    False                False       False            bus  \n",
       "98    False    False                False       False            bus  \n",
       "99    False    False                False       False            bus  \n",
       "\n",
       "[100 rows x 10 columns]"
      ]
     },
     "execution_count": 15,
     "metadata": {},
     "output_type": "execute_result"
    }
   ],
   "source": [
    "df1.head(100)\n"
   ]
  },
  {
   "cell_type": "code",
   "execution_count": 16,
   "metadata": {},
   "outputs": [
    {
     "data": {
      "text/plain": [
       "(227, 10)"
      ]
     },
     "execution_count": 16,
     "metadata": {},
     "output_type": "execute_result"
    }
   ],
   "source": [
    "df1.shape"
   ]
  },
  {
   "cell_type": "code",
   "execution_count": 17,
   "metadata": {},
   "outputs": [
    {
     "name": "stdout",
     "output_type": "stream",
     "text": [
      "<class 'pandas.core.frame.DataFrame'>\n",
      "RangeIndex: 227 entries, 0 to 226\n",
      "Data columns (total 10 columns):\n",
      " #   Column                Non-Null Count  Dtype \n",
      "---  ------                --------------  ----- \n",
      " 0   id                    227 non-null    int64 \n",
      " 1   company_id            227 non-null    int64 \n",
      " 2   provider_id           213 non-null    object\n",
      " 3   name                  227 non-null    object\n",
      " 4   fullname              227 non-null    object\n",
      " 5   has_wifi              224 non-null    object\n",
      " 6   has_plug              224 non-null    object\n",
      " 7   has_adjustable_seats  224 non-null    object\n",
      " 8   has_bicycle           224 non-null    object\n",
      " 9   transport_type        227 non-null    object\n",
      "dtypes: int64(2), object(8)\n",
      "memory usage: 17.9+ KB\n"
     ]
    }
   ],
   "source": [
    "df1.info()"
   ]
  },
  {
   "cell_type": "code",
   "execution_count": 18,
   "metadata": {},
   "outputs": [
    {
     "data": {
      "text/plain": [
       "Index(['id', 'company_id', 'provider_id', 'name', 'fullname', 'has_wifi',\n",
       "       'has_plug', 'has_adjustable_seats', 'has_bicycle', 'transport_type'],\n",
       "      dtype='object')"
      ]
     },
     "execution_count": 18,
     "metadata": {},
     "output_type": "execute_result"
    }
   ],
   "source": [
    "df1.columns"
   ]
  },
  {
   "cell_type": "code",
   "execution_count": 19,
   "metadata": {},
   "outputs": [
    {
     "data": {
      "text/plain": [
       "<AxesSubplot:ylabel='None'>"
      ]
     },
     "execution_count": 19,
     "metadata": {},
     "output_type": "execute_result"
    },
    {
     "data": {
      "image/png": "[encoded data removed]",
      "text/plain": [
       "<Figure size 432x288 with 1 Axes>"
      ]
     },
     "metadata": {},
     "output_type": "display_data"
    }
   ],
   "source": [
    "#statistics for column types\n",
    "df1.dtypes.value_counts().plot.pie()"
   ]
  },
  {
   "cell_type": "markdown",
   "metadata": {},
   "source": [
    "Like we see here in the Pie plot, the amount of the dataset is of object type and the rest is of int64 type"
   ]
  },
  {
   "cell_type": "code",
   "execution_count": 20,
   "metadata": {},
   "outputs": [
    {
     "data": {
      "text/plain": [
       "Text(0.5, 1.0, '4 Top Type Transport utilisé')"
      ]
     },
     "execution_count": 20,
     "metadata": {},
     "output_type": "execute_result"
    },
    {
     "data": {
      "image/png": "[encoded data removed]",
      "text/plain": [
       "<Figure size 648x360 with 1 Axes>"
      ]
     },
     "metadata": {
      "needs_background": "light"
     },
     "output_type": "display_data"
    }
   ],
   "source": [
    "#plotting transport_type feature\n",
    "plt.figure(figsize=(9,5))\n",
    "df1['transport_type'].value_counts()[:4].plot(kind='barh')\n",
    "plt.title('4 Top Type Transport utilisé')"
   ]
  },
  {
   "cell_type": "markdown",
   "metadata": {},
   "source": [
    "The best mean of transport according to most of people is the bus according to the ploting"
   ]
  },
  {
   "cell_type": "markdown",
   "metadata": {},
   "source": [
    "* Fortunately and as we see here, there is not missing values in our dataset and this is reassuring !!\n",
    "Let's now see missing values in different Providers dataset columns, here we develop a function missing_values :"
   ]
  },
  {
   "cell_type": "code",
   "execution_count": 21,
   "metadata": {},
   "outputs": [
    {
     "name": "stdout",
     "output_type": "stream",
     "text": [
      "has_wifi: 3\n",
      "has_plug: 3\n",
      "has_adjustable_seats: 3\n",
      "has_bicycle: 3\n",
      "provider_id: 14\n"
     ]
    }
   ],
   "source": [
    "def missing_values():\n",
    "    missing_dict={}\n",
    "    for c in df1.columns :\n",
    "        nb_missvalues_per_column = sum(df1[c].isna())\n",
    "        if nb_missvalues_per_column>0 :\n",
    "            missing_dict[c] = nb_missvalues_per_column\n",
    "            \n",
    "    # Sort dictionary by value and print\n",
    "    for key, value in sorted(missing_dict.items(), key=lambda x: x[1]):\n",
    "        print(\"%s: %s\" % (key, value))\n",
    "missing_values()"
   ]
  },
  {
   "cell_type": "markdown",
   "metadata": {},
   "source": [
    "* The amount of rows with missing values in any of has_wifi, has_plug, has_adjustable_seats, has_bicycle and provider_id are few in comparison with the dataset size, and there is no easy way to infer their data so it might be best to drop them."
   ]
  },
  {
   "cell_type": "code",
   "execution_count": 22,
   "metadata": {},
   "outputs": [],
   "source": [
    "# Drop entries with missing values in WRank, LRank, Wsets, Lsets, L1, W1, L2 or W2\n",
    "#print('Data entries before dropping:', df1.shape)         \n",
    "#df1.dropna(subset=['has_wifi', 'has_plug', 'has_adjustable_seats', 'has_bicycle', 'provider_id'], axis=0, inplace=True)\n",
    "\n",
    "\n",
    "#print(\"-\" * 40)\n",
    "#print('Data entries after dropping:', df1.shape)"
   ]
  },
  {
   "cell_type": "code",
   "execution_count": null,
   "metadata": {},
   "outputs": [],
   "source": []
  },
  {
   "cell_type": "markdown",
   "metadata": {},
   "source": [
    "### Stations DATASET : "
   ]
  },
  {
   "cell_type": "code",
   "execution_count": 23,
   "metadata": {},
   "outputs": [
    {
     "name": "stdout",
     "output_type": "stream",
     "text": [
      "11035\n"
     ]
    }
   ],
   "source": [
    "index = df2. index\n",
    "number_of_rows2 = len(index)\n",
    "print(number_of_rows2)"
   ]
  },
  {
   "cell_type": "code",
   "execution_count": 24,
   "metadata": {},
   "outputs": [
    {
     "data": {
      "text/html": [
       "<div>\n",
       "<style scoped>\n",
       "    .dataframe tbody tr th:only-of-type {\n",
       "        vertical-align: middle;\n",
       "    }\n",
       "\n",
       "    .dataframe tbody tr th {\n",
       "        vertical-align: top;\n",
       "    }\n",
       "\n",
       "    .dataframe thead th {\n",
       "        text-align: right;\n",
       "    }\n",
       "</style>\n",
       "<table border=\"1\" class=\"dataframe\">\n",
       "  <thead>\n",
       "    <tr style=\"text-align: right;\">\n",
       "      <th></th>\n",
       "      <th>id</th>\n",
       "      <th>unique_name</th>\n",
       "      <th>latitude</th>\n",
       "      <th>longitude</th>\n",
       "    </tr>\n",
       "  </thead>\n",
       "  <tbody>\n",
       "    <tr>\n",
       "      <th>0</th>\n",
       "      <td>1</td>\n",
       "      <td>Aalen (Stuttgarter Straße)</td>\n",
       "      <td>48.835296</td>\n",
       "      <td>10.092956</td>\n",
       "    </tr>\n",
       "    <tr>\n",
       "      <th>1</th>\n",
       "      <td>2</td>\n",
       "      <td>Aéroport Bordeaux-Mérignac</td>\n",
       "      <td>44.830226</td>\n",
       "      <td>-0.700883</td>\n",
       "    </tr>\n",
       "    <tr>\n",
       "      <th>2</th>\n",
       "      <td>3</td>\n",
       "      <td>Aéroport CDG</td>\n",
       "      <td>49.009900</td>\n",
       "      <td>2.559310</td>\n",
       "    </tr>\n",
       "    <tr>\n",
       "      <th>3</th>\n",
       "      <td>4</td>\n",
       "      <td>Aéroport de Berlin-Schönefeld</td>\n",
       "      <td>52.389446</td>\n",
       "      <td>13.520345</td>\n",
       "    </tr>\n",
       "    <tr>\n",
       "      <th>4</th>\n",
       "      <td>5</td>\n",
       "      <td>Aéroport de Dresden</td>\n",
       "      <td>51.123604</td>\n",
       "      <td>13.764737</td>\n",
       "    </tr>\n",
       "  </tbody>\n",
       "</table>\n",
       "</div>"
      ],
      "text/plain": [
       "   id                     unique_name   latitude  longitude\n",
       "0   1      Aalen (Stuttgarter Straße)  48.835296  10.092956\n",
       "1   2      Aéroport Bordeaux-Mérignac  44.830226  -0.700883\n",
       "2   3                   Aéroport CDG   49.009900   2.559310\n",
       "3   4  Aéroport de Berlin-Schönefeld   52.389446  13.520345\n",
       "4   5             Aéroport de Dresden  51.123604  13.764737"
      ]
     },
     "execution_count": 24,
     "metadata": {},
     "output_type": "execute_result"
    }
   ],
   "source": [
    "df2.head()\n",
    "#Latitude Latitude of the Bus Stop - Longitude Longitude of the Bus Stop"
   ]
  },
  {
   "cell_type": "code",
   "execution_count": 25,
   "metadata": {},
   "outputs": [
    {
     "data": {
      "text/plain": [
       "(11035, 4)"
      ]
     },
     "execution_count": 25,
     "metadata": {},
     "output_type": "execute_result"
    }
   ],
   "source": [
    "df2.shape"
   ]
  },
  {
   "cell_type": "code",
   "execution_count": 26,
   "metadata": {},
   "outputs": [
    {
     "name": "stdout",
     "output_type": "stream",
     "text": [
      "<class 'pandas.core.frame.DataFrame'>\n",
      "RangeIndex: 11035 entries, 0 to 11034\n",
      "Data columns (total 4 columns):\n",
      " #   Column       Non-Null Count  Dtype  \n",
      "---  ------       --------------  -----  \n",
      " 0   id           11035 non-null  int64  \n",
      " 1   unique_name  11035 non-null  object \n",
      " 2   latitude     11035 non-null  float64\n",
      " 3   longitude    11035 non-null  float64\n",
      "dtypes: float64(2), int64(1), object(1)\n",
      "memory usage: 345.0+ KB\n"
     ]
    }
   ],
   "source": [
    "df2.info()"
   ]
  },
  {
   "cell_type": "code",
   "execution_count": 27,
   "metadata": {},
   "outputs": [
    {
     "data": {
      "text/plain": [
       "Index(['id', 'unique_name', 'latitude', 'longitude'], dtype='object')"
      ]
     },
     "execution_count": 27,
     "metadata": {},
     "output_type": "execute_result"
    }
   ],
   "source": [
    "df2.columns"
   ]
  },
  {
   "cell_type": "code",
   "execution_count": 28,
   "metadata": {},
   "outputs": [
    {
     "data": {
      "text/html": [
       "<div>\n",
       "<style scoped>\n",
       "    .dataframe tbody tr th:only-of-type {\n",
       "        vertical-align: middle;\n",
       "    }\n",
       "\n",
       "    .dataframe tbody tr th {\n",
       "        vertical-align: top;\n",
       "    }\n",
       "\n",
       "    .dataframe thead th {\n",
       "        text-align: right;\n",
       "    }\n",
       "</style>\n",
       "<table border=\"1\" class=\"dataframe\">\n",
       "  <thead>\n",
       "    <tr style=\"text-align: right;\">\n",
       "      <th></th>\n",
       "      <th>id</th>\n",
       "      <th>latitude</th>\n",
       "      <th>longitude</th>\n",
       "    </tr>\n",
       "  </thead>\n",
       "  <tbody>\n",
       "    <tr>\n",
       "      <th>count</th>\n",
       "      <td>11035.000000</td>\n",
       "      <td>11035.000000</td>\n",
       "      <td>11035.000000</td>\n",
       "    </tr>\n",
       "    <tr>\n",
       "      <th>mean</th>\n",
       "      <td>5518.026914</td>\n",
       "      <td>47.526678</td>\n",
       "      <td>7.580807</td>\n",
       "    </tr>\n",
       "    <tr>\n",
       "      <th>std</th>\n",
       "      <td>3185.719813</td>\n",
       "      <td>3.953972</td>\n",
       "      <td>63.655681</td>\n",
       "    </tr>\n",
       "    <tr>\n",
       "      <th>min</th>\n",
       "      <td>1.000000</td>\n",
       "      <td>-22.355790</td>\n",
       "      <td>-22.625538</td>\n",
       "    </tr>\n",
       "    <tr>\n",
       "      <th>25%</th>\n",
       "      <td>2759.500000</td>\n",
       "      <td>44.896446</td>\n",
       "      <td>1.358655</td>\n",
       "    </tr>\n",
       "    <tr>\n",
       "      <th>50%</th>\n",
       "      <td>5518.000000</td>\n",
       "      <td>47.759670</td>\n",
       "      <td>5.824010</td>\n",
       "    </tr>\n",
       "    <tr>\n",
       "      <th>75%</th>\n",
       "      <td>8276.500000</td>\n",
       "      <td>50.349956</td>\n",
       "      <td>12.166133</td>\n",
       "    </tr>\n",
       "    <tr>\n",
       "      <th>max</th>\n",
       "      <td>11036.000000</td>\n",
       "      <td>64.137571</td>\n",
       "      <td>6645.000000</td>\n",
       "    </tr>\n",
       "  </tbody>\n",
       "</table>\n",
       "</div>"
      ],
      "text/plain": [
       "                 id      latitude     longitude\n",
       "count  11035.000000  11035.000000  11035.000000\n",
       "mean    5518.026914     47.526678      7.580807\n",
       "std     3185.719813      3.953972     63.655681\n",
       "min        1.000000    -22.355790    -22.625538\n",
       "25%     2759.500000     44.896446      1.358655\n",
       "50%     5518.000000     47.759670      5.824010\n",
       "75%     8276.500000     50.349956     12.166133\n",
       "max    11036.000000     64.137571   6645.000000"
      ]
     },
     "execution_count": 28,
     "metadata": {},
     "output_type": "execute_result"
    }
   ],
   "source": [
    "df2.describe()"
   ]
  },
  {
   "cell_type": "code",
   "execution_count": 29,
   "metadata": {},
   "outputs": [
    {
     "data": {
      "text/plain": [
       "<AxesSubplot:ylabel='None'>"
      ]
     },
     "execution_count": 29,
     "metadata": {},
     "output_type": "execute_result"
    },
    {
     "data": {
      "image/png": "[encoded data removed]",
      "text/plain": [
       "<Figure size 432x288 with 1 Axes>"
      ]
     },
     "metadata": {},
     "output_type": "display_data"
    }
   ],
   "source": [
    "#statistics for column types\n",
    "df2.dtypes.value_counts().plot.pie()"
   ]
  },
  {
   "cell_type": "markdown",
   "metadata": {},
   "source": [
    "We notice that half the Stations dataset is of type float64 and the other half is partitioned into int64 and object type"
   ]
  },
  {
   "cell_type": "markdown",
   "metadata": {},
   "source": [
    "* Fortunately and as we see here, there is not missing values in our dataset and this is reassuring !!"
   ]
  },
  {
   "cell_type": "code",
   "execution_count": 30,
   "metadata": {},
   "outputs": [],
   "source": [
    "def missing_values():\n",
    "    missing_dict={}\n",
    "    for c in df2.columns :\n",
    "        nb_missvalues_per_column = sum(df2[c].isna())\n",
    "        if nb_missvalues_per_column>0 :\n",
    "            missing_dict[c] = nb_missvalues_per_column\n",
    "            \n",
    "    # Sort dictionary by value and print\n",
    "    for key, value in sorted(missing_dict.items(), key=lambda x: x[1]):\n",
    "        print(\"%s: %s\" % (key, value))\n",
    "missing_values()"
   ]
  },
  {
   "cell_type": "code",
   "execution_count": null,
   "metadata": {},
   "outputs": [],
   "source": []
  },
  {
   "cell_type": "markdown",
   "metadata": {},
   "source": [
    "### Tickets DATASET "
   ]
  },
  {
   "cell_type": "code",
   "execution_count": 31,
   "metadata": {},
   "outputs": [
    {
     "name": "stdout",
     "output_type": "stream",
     "text": [
      "74168\n"
     ]
    }
   ],
   "source": [
    "index = df3. index\n",
    "number_of_rows3 = len(index)\n",
    "print(number_of_rows3)"
   ]
  },
  {
   "cell_type": "code",
   "execution_count": 32,
   "metadata": {},
   "outputs": [
    {
     "data": {
      "text/html": [
       "<div>\n",
       "<style scoped>\n",
       "    .dataframe tbody tr th:only-of-type {\n",
       "        vertical-align: middle;\n",
       "    }\n",
       "\n",
       "    .dataframe tbody tr th {\n",
       "        vertical-align: top;\n",
       "    }\n",
       "\n",
       "    .dataframe thead th {\n",
       "        text-align: right;\n",
       "    }\n",
       "</style>\n",
       "<table border=\"1\" class=\"dataframe\">\n",
       "  <thead>\n",
       "    <tr style=\"text-align: right;\">\n",
       "      <th></th>\n",
       "      <th>id</th>\n",
       "      <th>company</th>\n",
       "      <th>o_station</th>\n",
       "      <th>d_station</th>\n",
       "      <th>departure_ts</th>\n",
       "      <th>arrival_ts</th>\n",
       "      <th>price_in_cents</th>\n",
       "      <th>search_ts</th>\n",
       "      <th>middle_stations</th>\n",
       "      <th>other_companies</th>\n",
       "      <th>o_city</th>\n",
       "      <th>d_city</th>\n",
       "    </tr>\n",
       "  </thead>\n",
       "  <tbody>\n",
       "    <tr>\n",
       "      <th>0</th>\n",
       "      <td>6795025</td>\n",
       "      <td>8385</td>\n",
       "      <td>NaN</td>\n",
       "      <td>NaN</td>\n",
       "      <td>2017-10-13 14:00:00+00</td>\n",
       "      <td>2017-10-13 20:10:00+00</td>\n",
       "      <td>4550</td>\n",
       "      <td>2017-10-01 00:13:31.327+00</td>\n",
       "      <td>NaN</td>\n",
       "      <td>NaN</td>\n",
       "      <td>611</td>\n",
       "      <td>542</td>\n",
       "    </tr>\n",
       "    <tr>\n",
       "      <th>1</th>\n",
       "      <td>6795026</td>\n",
       "      <td>9</td>\n",
       "      <td>63.0</td>\n",
       "      <td>1044.0</td>\n",
       "      <td>2017-10-13 13:05:00+00</td>\n",
       "      <td>2017-10-14 06:55:00+00</td>\n",
       "      <td>1450</td>\n",
       "      <td>2017-10-01 00:13:35.773+00</td>\n",
       "      <td>{149,418}</td>\n",
       "      <td>{13}</td>\n",
       "      <td>611</td>\n",
       "      <td>542</td>\n",
       "    </tr>\n",
       "    <tr>\n",
       "      <th>2</th>\n",
       "      <td>6795027</td>\n",
       "      <td>8377</td>\n",
       "      <td>5905.0</td>\n",
       "      <td>6495.0</td>\n",
       "      <td>2017-10-13 13:27:00+00</td>\n",
       "      <td>2017-10-14 21:24:00+00</td>\n",
       "      <td>7400</td>\n",
       "      <td>2017-10-01 00:13:40.212+00</td>\n",
       "      <td>{798,798,6794,6246}</td>\n",
       "      <td>{8377,8376}</td>\n",
       "      <td>611</td>\n",
       "      <td>542</td>\n",
       "    </tr>\n",
       "    <tr>\n",
       "      <th>3</th>\n",
       "      <td>6795028</td>\n",
       "      <td>8377</td>\n",
       "      <td>5905.0</td>\n",
       "      <td>6495.0</td>\n",
       "      <td>2017-10-13 13:27:00+00</td>\n",
       "      <td>2017-10-14 11:02:00+00</td>\n",
       "      <td>13500</td>\n",
       "      <td>2017-10-01 00:13:40.213+00</td>\n",
       "      <td>{798,798,6794,6246}</td>\n",
       "      <td>{8377,8376}</td>\n",
       "      <td>611</td>\n",
       "      <td>542</td>\n",
       "    </tr>\n",
       "    <tr>\n",
       "      <th>4</th>\n",
       "      <td>6795029</td>\n",
       "      <td>8381</td>\n",
       "      <td>5905.0</td>\n",
       "      <td>6495.0</td>\n",
       "      <td>2017-10-13 21:46:00+00</td>\n",
       "      <td>2017-10-14 19:32:00+00</td>\n",
       "      <td>7710</td>\n",
       "      <td>2017-10-01 00:13:40.213+00</td>\n",
       "      <td>{5983,5983}</td>\n",
       "      <td>{8380}</td>\n",
       "      <td>611</td>\n",
       "      <td>542</td>\n",
       "    </tr>\n",
       "  </tbody>\n",
       "</table>\n",
       "</div>"
      ],
      "text/plain": [
       "        id  company  o_station  d_station            departure_ts  \\\n",
       "0  6795025     8385        NaN        NaN  2017-10-13 14:00:00+00   \n",
       "1  6795026        9       63.0     1044.0  2017-10-13 13:05:00+00   \n",
       "2  6795027     8377     5905.0     6495.0  2017-10-13 13:27:00+00   \n",
       "3  6795028     8377     5905.0     6495.0  2017-10-13 13:27:00+00   \n",
       "4  6795029     8381     5905.0     6495.0  2017-10-13 21:46:00+00   \n",
       "\n",
       "               arrival_ts  price_in_cents                   search_ts  \\\n",
       "0  2017-10-13 20:10:00+00            4550  2017-10-01 00:13:31.327+00   \n",
       "1  2017-10-14 06:55:00+00            1450  2017-10-01 00:13:35.773+00   \n",
       "2  2017-10-14 21:24:00+00            7400  2017-10-01 00:13:40.212+00   \n",
       "3  2017-10-14 11:02:00+00           13500  2017-10-01 00:13:40.213+00   \n",
       "4  2017-10-14 19:32:00+00            7710  2017-10-01 00:13:40.213+00   \n",
       "\n",
       "       middle_stations other_companies  o_city  d_city  \n",
       "0                  NaN             NaN     611     542  \n",
       "1            {149,418}            {13}     611     542  \n",
       "2  {798,798,6794,6246}     {8377,8376}     611     542  \n",
       "3  {798,798,6794,6246}     {8377,8376}     611     542  \n",
       "4          {5983,5983}          {8380}     611     542  "
      ]
     },
     "execution_count": 32,
     "metadata": {},
     "output_type": "execute_result"
    }
   ],
   "source": [
    "df3.head()"
   ]
  },
  {
   "cell_type": "code",
   "execution_count": 33,
   "metadata": {},
   "outputs": [
    {
     "data": {
      "text/html": [
       "<div>\n",
       "<style scoped>\n",
       "    .dataframe tbody tr th:only-of-type {\n",
       "        vertical-align: middle;\n",
       "    }\n",
       "\n",
       "    .dataframe tbody tr th {\n",
       "        vertical-align: top;\n",
       "    }\n",
       "\n",
       "    .dataframe thead th {\n",
       "        text-align: right;\n",
       "    }\n",
       "</style>\n",
       "<table border=\"1\" class=\"dataframe\">\n",
       "  <thead>\n",
       "    <tr style=\"text-align: right;\">\n",
       "      <th></th>\n",
       "      <th>id</th>\n",
       "      <th>company</th>\n",
       "      <th>o_station</th>\n",
       "      <th>d_station</th>\n",
       "      <th>price_in_cents</th>\n",
       "      <th>o_city</th>\n",
       "      <th>d_city</th>\n",
       "    </tr>\n",
       "  </thead>\n",
       "  <tbody>\n",
       "    <tr>\n",
       "      <th>count</th>\n",
       "      <td>7.416800e+04</td>\n",
       "      <td>74168.000000</td>\n",
       "      <td>32727.000000</td>\n",
       "      <td>32727.000000</td>\n",
       "      <td>74168.000000</td>\n",
       "      <td>74168.000000</td>\n",
       "      <td>74168.000000</td>\n",
       "    </tr>\n",
       "    <tr>\n",
       "      <th>mean</th>\n",
       "      <td>6.832108e+06</td>\n",
       "      <td>7109.565527</td>\n",
       "      <td>2907.132673</td>\n",
       "      <td>2347.858129</td>\n",
       "      <td>4382.711061</td>\n",
       "      <td>849.186105</td>\n",
       "      <td>883.776265</td>\n",
       "    </tr>\n",
       "    <tr>\n",
       "      <th>std</th>\n",
       "      <td>2.141060e+04</td>\n",
       "      <td>3005.380792</td>\n",
       "      <td>3347.629180</td>\n",
       "      <td>3090.798007</td>\n",
       "      <td>3739.325367</td>\n",
       "      <td>1485.791782</td>\n",
       "      <td>1654.698575</td>\n",
       "    </tr>\n",
       "    <tr>\n",
       "      <th>min</th>\n",
       "      <td>6.795025e+06</td>\n",
       "      <td>9.000000</td>\n",
       "      <td>3.000000</td>\n",
       "      <td>3.000000</td>\n",
       "      <td>300.000000</td>\n",
       "      <td>5.000000</td>\n",
       "      <td>1.000000</td>\n",
       "    </tr>\n",
       "    <tr>\n",
       "      <th>25%</th>\n",
       "      <td>6.813567e+06</td>\n",
       "      <td>8376.000000</td>\n",
       "      <td>400.000000</td>\n",
       "      <td>396.000000</td>\n",
       "      <td>1900.000000</td>\n",
       "      <td>485.000000</td>\n",
       "      <td>453.000000</td>\n",
       "    </tr>\n",
       "    <tr>\n",
       "      <th>50%</th>\n",
       "      <td>6.832108e+06</td>\n",
       "      <td>8385.000000</td>\n",
       "      <td>701.000000</td>\n",
       "      <td>575.000000</td>\n",
       "      <td>3350.000000</td>\n",
       "      <td>628.000000</td>\n",
       "      <td>562.000000</td>\n",
       "    </tr>\n",
       "    <tr>\n",
       "      <th>75%</th>\n",
       "      <td>6.850650e+06</td>\n",
       "      <td>8385.000000</td>\n",
       "      <td>6246.000000</td>\n",
       "      <td>4538.000000</td>\n",
       "      <td>5250.000000</td>\n",
       "      <td>628.000000</td>\n",
       "      <td>628.000000</td>\n",
       "    </tr>\n",
       "    <tr>\n",
       "      <th>max</th>\n",
       "      <td>6.869192e+06</td>\n",
       "      <td>8387.000000</td>\n",
       "      <td>11017.000000</td>\n",
       "      <td>11017.000000</td>\n",
       "      <td>38550.000000</td>\n",
       "      <td>12190.000000</td>\n",
       "      <td>12190.000000</td>\n",
       "    </tr>\n",
       "  </tbody>\n",
       "</table>\n",
       "</div>"
      ],
      "text/plain": [
       "                 id       company     o_station     d_station  price_in_cents  \\\n",
       "count  7.416800e+04  74168.000000  32727.000000  32727.000000    74168.000000   \n",
       "mean   6.832108e+06   7109.565527   2907.132673   2347.858129     4382.711061   \n",
       "std    2.141060e+04   3005.380792   3347.629180   3090.798007     3739.325367   \n",
       "min    6.795025e+06      9.000000      3.000000      3.000000      300.000000   \n",
       "25%    6.813567e+06   8376.000000    400.000000    396.000000     1900.000000   \n",
       "50%    6.832108e+06   8385.000000    701.000000    575.000000     3350.000000   \n",
       "75%    6.850650e+06   8385.000000   6246.000000   4538.000000     5250.000000   \n",
       "max    6.869192e+06   8387.000000  11017.000000  11017.000000    38550.000000   \n",
       "\n",
       "             o_city        d_city  \n",
       "count  74168.000000  74168.000000  \n",
       "mean     849.186105    883.776265  \n",
       "std     1485.791782   1654.698575  \n",
       "min        5.000000      1.000000  \n",
       "25%      485.000000    453.000000  \n",
       "50%      628.000000    562.000000  \n",
       "75%      628.000000    628.000000  \n",
       "max    12190.000000  12190.000000  "
      ]
     },
     "execution_count": 33,
     "metadata": {},
     "output_type": "execute_result"
    }
   ],
   "source": [
    "df3.describe()"
   ]
  },
  {
   "cell_type": "code",
   "execution_count": 34,
   "metadata": {},
   "outputs": [
    {
     "data": {
      "text/plain": [
       "(74168, 12)"
      ]
     },
     "execution_count": 34,
     "metadata": {},
     "output_type": "execute_result"
    }
   ],
   "source": [
    "df3.shape"
   ]
  },
  {
   "cell_type": "code",
   "execution_count": 35,
   "metadata": {},
   "outputs": [
    {
     "name": "stdout",
     "output_type": "stream",
     "text": [
      "<class 'pandas.core.frame.DataFrame'>\n",
      "RangeIndex: 74168 entries, 0 to 74167\n",
      "Data columns (total 12 columns):\n",
      " #   Column           Non-Null Count  Dtype  \n",
      "---  ------           --------------  -----  \n",
      " 0   id               74168 non-null  int64  \n",
      " 1   company          74168 non-null  int64  \n",
      " 2   o_station        32727 non-null  float64\n",
      " 3   d_station        32727 non-null  float64\n",
      " 4   departure_ts     74168 non-null  object \n",
      " 5   arrival_ts       74168 non-null  object \n",
      " 6   price_in_cents   74168 non-null  int64  \n",
      " 7   search_ts        74168 non-null  object \n",
      " 8   middle_stations  32727 non-null  object \n",
      " 9   other_companies  32727 non-null  object \n",
      " 10  o_city           74168 non-null  int64  \n",
      " 11  d_city           74168 non-null  int64  \n",
      "dtypes: float64(2), int64(5), object(5)\n",
      "memory usage: 6.8+ MB\n"
     ]
    }
   ],
   "source": [
    "df3.info()"
   ]
  },
  {
   "cell_type": "code",
   "execution_count": 36,
   "metadata": {},
   "outputs": [
    {
     "data": {
      "text/plain": [
       "Index(['id', 'company', 'o_station', 'd_station', 'departure_ts', 'arrival_ts',\n",
       "       'price_in_cents', 'search_ts', 'middle_stations', 'other_companies',\n",
       "       'o_city', 'd_city'],\n",
       "      dtype='object')"
      ]
     },
     "execution_count": 36,
     "metadata": {},
     "output_type": "execute_result"
    }
   ],
   "source": [
    "df3.columns"
   ]
  },
  {
   "cell_type": "code",
   "execution_count": 37,
   "metadata": {},
   "outputs": [
    {
     "data": {
      "text/plain": [
       "<AxesSubplot:ylabel='None'>"
      ]
     },
     "execution_count": 37,
     "metadata": {},
     "output_type": "execute_result"
    },
    {
     "data": {
      "image/png": "[encoded data removed]",
      "text/plain": [
       "<Figure size 432x288 with 1 Axes>"
      ]
     },
     "metadata": {},
     "output_type": "display_data"
    }
   ],
   "source": [
    "#statistics for column types\n",
    "df3.dtypes.value_counts().plot.pie()"
   ]
  },
  {
   "cell_type": "markdown",
   "metadata": {},
   "source": [
    "* We notice that half the Tickets dataset is partitioned into type object type and int64 type and the rest is of type float64 type "
   ]
  },
  {
   "cell_type": "code",
   "execution_count": 38,
   "metadata": {},
   "outputs": [
    {
     "data": {
      "text/plain": [
       "Text(0.5, 1.0, '10 Top middle stations')"
      ]
     },
     "execution_count": 38,
     "metadata": {},
     "output_type": "execute_result"
    },
    {
     "data": {
      "image/png": "[encoded data removed]",
      "text/plain": [
       "<Figure size 648x360 with 1 Axes>"
      ]
     },
     "metadata": {
      "needs_background": "light"
     },
     "output_type": "display_data"
    }
   ],
   "source": [
    "#plotting local_name feature\n",
    "plt.figure(figsize=(9,5))\n",
    "df3['middle_stations'].value_counts()[:10].plot(kind='barh')\n",
    "plt.title('10 Top middle stations')"
   ]
  },
  {
   "cell_type": "markdown",
   "metadata": {},
   "source": [
    "* Let's study the correlation of different features of Tickets dataset :"
   ]
  },
  {
   "cell_type": "code",
   "execution_count": 39,
   "metadata": {},
   "outputs": [
    {
     "data": {
      "text/plain": [
       "Text(0.5, 0, 'Count')"
      ]
     },
     "execution_count": 39,
     "metadata": {},
     "output_type": "execute_result"
    },
    {
     "data": {
      "image/png": "[encoded data removed]",
      "text/plain": [
       "<Figure size 720x720 with 1 Axes>"
      ]
     },
     "metadata": {
      "needs_background": "light"
     },
     "output_type": "display_data"
    }
   ],
   "source": [
    "plt.figure(figsize=(10,10))\n",
    "g=sns.histplot(x=\"price_in_cents\", data=df3)\n",
    "g.set_title(\"Variance des prix\")\n",
    "g.set_xlabel(\"Prices\")\n",
    "g.set_xlabel(\"Count\")"
   ]
  },
  {
   "cell_type": "code",
   "execution_count": 40,
   "metadata": {
    "scrolled": true
   },
   "outputs": [
    {
     "data": {
      "text/plain": [
       "count    74168.000000\n",
       "mean      4382.711061\n",
       "std       3739.325367\n",
       "min        300.000000\n",
       "25%       1900.000000\n",
       "50%       3350.000000\n",
       "75%       5250.000000\n",
       "max      38550.000000\n",
       "Name: price_in_cents, dtype: float64"
      ]
     },
     "execution_count": 40,
     "metadata": {},
     "output_type": "execute_result"
    }
   ],
   "source": [
    "df3.price_in_cents.describe()"
   ]
  },
  {
   "cell_type": "markdown",
   "metadata": {},
   "source": [
    "* Like the plotting shows, there is not missing values in our dataset except few in o_station, d_station, middle_stations and other_companies so let's verify more with our function missing_values :\n"
   ]
  },
  {
   "cell_type": "code",
   "execution_count": 41,
   "metadata": {},
   "outputs": [
    {
     "name": "stdout",
     "output_type": "stream",
     "text": [
      "o_station: 41441\n",
      "d_station: 41441\n",
      "middle_stations: 41441\n",
      "other_companies: 41441\n"
     ]
    }
   ],
   "source": [
    "def missing_values():\n",
    "    missing_dict={}\n",
    "    for c in df3.columns :\n",
    "        nb_missvalues_per_column = sum(df3[c].isna())\n",
    "        if nb_missvalues_per_column>0 :\n",
    "            missing_dict[c] = nb_missvalues_per_column\n",
    "            \n",
    "    # Sort dictionary by value and print\n",
    "    for key, value in sorted(missing_dict.items(), key=lambda x: x[1]):\n",
    "        print(\"%s: %s\" % (key, value))\n",
    "missing_values()\n"
   ]
  },
  {
   "cell_type": "markdown",
   "metadata": {},
   "source": [
    "* We notice here through the missing_values function and we found that o_station, d_station, middle_stations and other_companies columns have more than the half of their rows are missed."
   ]
  },
  {
   "cell_type": "code",
   "execution_count": null,
   "metadata": {},
   "outputs": [],
   "source": []
  },
  {
   "cell_type": "markdown",
   "metadata": {},
   "source": [
    "## Extraction d'informations intéressantes "
   ]
  },
  {
   "cell_type": "code",
   "execution_count": 42,
   "metadata": {},
   "outputs": [
    {
     "data": {
      "text/html": [
       "<div>\n",
       "<style scoped>\n",
       "    .dataframe tbody tr th:only-of-type {\n",
       "        vertical-align: middle;\n",
       "    }\n",
       "\n",
       "    .dataframe tbody tr th {\n",
       "        vertical-align: top;\n",
       "    }\n",
       "\n",
       "    .dataframe thead th {\n",
       "        text-align: right;\n",
       "    }\n",
       "</style>\n",
       "<table border=\"1\" class=\"dataframe\">\n",
       "  <thead>\n",
       "    <tr style=\"text-align: right;\">\n",
       "      <th></th>\n",
       "      <th>id</th>\n",
       "      <th>company</th>\n",
       "      <th>o_station</th>\n",
       "      <th>d_station</th>\n",
       "      <th>departure_ts</th>\n",
       "      <th>arrival_ts</th>\n",
       "      <th>price_in_cents</th>\n",
       "      <th>search_ts</th>\n",
       "      <th>middle_stations</th>\n",
       "      <th>other_companies</th>\n",
       "      <th>o_city</th>\n",
       "      <th>d_city</th>\n",
       "      <th>price</th>\n",
       "    </tr>\n",
       "  </thead>\n",
       "  <tbody>\n",
       "    <tr>\n",
       "      <th>0</th>\n",
       "      <td>6795025</td>\n",
       "      <td>8385</td>\n",
       "      <td>NaN</td>\n",
       "      <td>NaN</td>\n",
       "      <td>2017-10-13 14:00:00+00</td>\n",
       "      <td>2017-10-13 20:10:00+00</td>\n",
       "      <td>4550</td>\n",
       "      <td>2017-10-01 00:13:31.327+00</td>\n",
       "      <td>NaN</td>\n",
       "      <td>NaN</td>\n",
       "      <td>611</td>\n",
       "      <td>542</td>\n",
       "      <td>45.5</td>\n",
       "    </tr>\n",
       "    <tr>\n",
       "      <th>1</th>\n",
       "      <td>6795026</td>\n",
       "      <td>9</td>\n",
       "      <td>63.0</td>\n",
       "      <td>1044.0</td>\n",
       "      <td>2017-10-13 13:05:00+00</td>\n",
       "      <td>2017-10-14 06:55:00+00</td>\n",
       "      <td>1450</td>\n",
       "      <td>2017-10-01 00:13:35.773+00</td>\n",
       "      <td>{149,418}</td>\n",
       "      <td>{13}</td>\n",
       "      <td>611</td>\n",
       "      <td>542</td>\n",
       "      <td>14.5</td>\n",
       "    </tr>\n",
       "    <tr>\n",
       "      <th>2</th>\n",
       "      <td>6795027</td>\n",
       "      <td>8377</td>\n",
       "      <td>5905.0</td>\n",
       "      <td>6495.0</td>\n",
       "      <td>2017-10-13 13:27:00+00</td>\n",
       "      <td>2017-10-14 21:24:00+00</td>\n",
       "      <td>7400</td>\n",
       "      <td>2017-10-01 00:13:40.212+00</td>\n",
       "      <td>{798,798,6794,6246}</td>\n",
       "      <td>{8377,8376}</td>\n",
       "      <td>611</td>\n",
       "      <td>542</td>\n",
       "      <td>74.0</td>\n",
       "    </tr>\n",
       "    <tr>\n",
       "      <th>3</th>\n",
       "      <td>6795028</td>\n",
       "      <td>8377</td>\n",
       "      <td>5905.0</td>\n",
       "      <td>6495.0</td>\n",
       "      <td>2017-10-13 13:27:00+00</td>\n",
       "      <td>2017-10-14 11:02:00+00</td>\n",
       "      <td>13500</td>\n",
       "      <td>2017-10-01 00:13:40.213+00</td>\n",
       "      <td>{798,798,6794,6246}</td>\n",
       "      <td>{8377,8376}</td>\n",
       "      <td>611</td>\n",
       "      <td>542</td>\n",
       "      <td>135.0</td>\n",
       "    </tr>\n",
       "    <tr>\n",
       "      <th>4</th>\n",
       "      <td>6795029</td>\n",
       "      <td>8381</td>\n",
       "      <td>5905.0</td>\n",
       "      <td>6495.0</td>\n",
       "      <td>2017-10-13 21:46:00+00</td>\n",
       "      <td>2017-10-14 19:32:00+00</td>\n",
       "      <td>7710</td>\n",
       "      <td>2017-10-01 00:13:40.213+00</td>\n",
       "      <td>{5983,5983}</td>\n",
       "      <td>{8380}</td>\n",
       "      <td>611</td>\n",
       "      <td>542</td>\n",
       "      <td>77.1</td>\n",
       "    </tr>\n",
       "  </tbody>\n",
       "</table>\n",
       "</div>"
      ],
      "text/plain": [
       "        id  company  o_station  d_station            departure_ts  \\\n",
       "0  6795025     8385        NaN        NaN  2017-10-13 14:00:00+00   \n",
       "1  6795026        9       63.0     1044.0  2017-10-13 13:05:00+00   \n",
       "2  6795027     8377     5905.0     6495.0  2017-10-13 13:27:00+00   \n",
       "3  6795028     8377     5905.0     6495.0  2017-10-13 13:27:00+00   \n",
       "4  6795029     8381     5905.0     6495.0  2017-10-13 21:46:00+00   \n",
       "\n",
       "               arrival_ts  price_in_cents                   search_ts  \\\n",
       "0  2017-10-13 20:10:00+00            4550  2017-10-01 00:13:31.327+00   \n",
       "1  2017-10-14 06:55:00+00            1450  2017-10-01 00:13:35.773+00   \n",
       "2  2017-10-14 21:24:00+00            7400  2017-10-01 00:13:40.212+00   \n",
       "3  2017-10-14 11:02:00+00           13500  2017-10-01 00:13:40.213+00   \n",
       "4  2017-10-14 19:32:00+00            7710  2017-10-01 00:13:40.213+00   \n",
       "\n",
       "       middle_stations other_companies  o_city  d_city  price  \n",
       "0                  NaN             NaN     611     542   45.5  \n",
       "1            {149,418}            {13}     611     542   14.5  \n",
       "2  {798,798,6794,6246}     {8377,8376}     611     542   74.0  \n",
       "3  {798,798,6794,6246}     {8377,8376}     611     542  135.0  \n",
       "4          {5983,5983}          {8380}     611     542   77.1  "
      ]
     },
     "execution_count": 42,
     "metadata": {},
     "output_type": "execute_result"
    }
   ],
   "source": [
    "# Convert the prices into euros\n",
    "df3['price'] = df3['price_in_cents'] / 100\n",
    "df3.head()"
   ]
  },
  {
   "cell_type": "markdown",
   "metadata": {},
   "source": [
    "### Merging data from different dataframes to get more informations :"
   ]
  },
  {
   "cell_type": "code",
   "execution_count": 43,
   "metadata": {},
   "outputs": [
    {
     "data": {
      "text/html": [
       "<div>\n",
       "<style scoped>\n",
       "    .dataframe tbody tr th:only-of-type {\n",
       "        vertical-align: middle;\n",
       "    }\n",
       "\n",
       "    .dataframe tbody tr th {\n",
       "        vertical-align: top;\n",
       "    }\n",
       "\n",
       "    .dataframe thead th {\n",
       "        text-align: right;\n",
       "    }\n",
       "</style>\n",
       "<table border=\"1\" class=\"dataframe\">\n",
       "  <thead>\n",
       "    <tr style=\"text-align: right;\">\n",
       "      <th></th>\n",
       "      <th>id_x</th>\n",
       "      <th>company</th>\n",
       "      <th>o_station</th>\n",
       "      <th>d_station</th>\n",
       "      <th>departure_ts</th>\n",
       "      <th>arrival_ts</th>\n",
       "      <th>price_in_cents</th>\n",
       "      <th>search_ts</th>\n",
       "      <th>middle_stations</th>\n",
       "      <th>other_companies</th>\n",
       "      <th>...</th>\n",
       "      <th>id_y</th>\n",
       "      <th>company_id</th>\n",
       "      <th>provider_id</th>\n",
       "      <th>name</th>\n",
       "      <th>fullname</th>\n",
       "      <th>has_wifi</th>\n",
       "      <th>has_plug</th>\n",
       "      <th>has_adjustable_seats</th>\n",
       "      <th>has_bicycle</th>\n",
       "      <th>transport_type</th>\n",
       "    </tr>\n",
       "  </thead>\n",
       "  <tbody>\n",
       "    <tr>\n",
       "      <th>0</th>\n",
       "      <td>6795025</td>\n",
       "      <td>8385</td>\n",
       "      <td>NaN</td>\n",
       "      <td>NaN</td>\n",
       "      <td>2017-10-13 14:00:00+00</td>\n",
       "      <td>2017-10-13 20:10:00+00</td>\n",
       "      <td>4550</td>\n",
       "      <td>2017-10-01 00:13:31.327+00</td>\n",
       "      <td>NaN</td>\n",
       "      <td>NaN</td>\n",
       "      <td>...</td>\n",
       "      <td>8385</td>\n",
       "      <td>11</td>\n",
       "      <td>NaN</td>\n",
       "      <td>bbc</td>\n",
       "      <td>Blablacar</td>\n",
       "      <td>False</td>\n",
       "      <td>False</td>\n",
       "      <td>False</td>\n",
       "      <td>False</td>\n",
       "      <td>carpooling</td>\n",
       "    </tr>\n",
       "    <tr>\n",
       "      <th>1</th>\n",
       "      <td>6795026</td>\n",
       "      <td>9</td>\n",
       "      <td>63.0</td>\n",
       "      <td>1044.0</td>\n",
       "      <td>2017-10-13 13:05:00+00</td>\n",
       "      <td>2017-10-14 06:55:00+00</td>\n",
       "      <td>1450</td>\n",
       "      <td>2017-10-01 00:13:35.773+00</td>\n",
       "      <td>{149,418}</td>\n",
       "      <td>{13}</td>\n",
       "      <td>...</td>\n",
       "      <td>9</td>\n",
       "      <td>1</td>\n",
       "      <td>NaN</td>\n",
       "      <td>ouibus</td>\n",
       "      <td>Ouibus</td>\n",
       "      <td>True</td>\n",
       "      <td>True</td>\n",
       "      <td>True</td>\n",
       "      <td>False</td>\n",
       "      <td>bus</td>\n",
       "    </tr>\n",
       "    <tr>\n",
       "      <th>2</th>\n",
       "      <td>6795027</td>\n",
       "      <td>8377</td>\n",
       "      <td>5905.0</td>\n",
       "      <td>6495.0</td>\n",
       "      <td>2017-10-13 13:27:00+00</td>\n",
       "      <td>2017-10-14 21:24:00+00</td>\n",
       "      <td>7400</td>\n",
       "      <td>2017-10-01 00:13:40.212+00</td>\n",
       "      <td>{798,798,6794,6246}</td>\n",
       "      <td>{8377,8376}</td>\n",
       "      <td>...</td>\n",
       "      <td>8377</td>\n",
       "      <td>10</td>\n",
       "      <td>2</td>\n",
       "      <td>corailintercite</td>\n",
       "      <td>Intercités</td>\n",
       "      <td>False</td>\n",
       "      <td>False</td>\n",
       "      <td>True</td>\n",
       "      <td>False</td>\n",
       "      <td>train</td>\n",
       "    </tr>\n",
       "    <tr>\n",
       "      <th>3</th>\n",
       "      <td>6795028</td>\n",
       "      <td>8377</td>\n",
       "      <td>5905.0</td>\n",
       "      <td>6495.0</td>\n",
       "      <td>2017-10-13 13:27:00+00</td>\n",
       "      <td>2017-10-14 11:02:00+00</td>\n",
       "      <td>13500</td>\n",
       "      <td>2017-10-01 00:13:40.213+00</td>\n",
       "      <td>{798,798,6794,6246}</td>\n",
       "      <td>{8377,8376}</td>\n",
       "      <td>...</td>\n",
       "      <td>8377</td>\n",
       "      <td>10</td>\n",
       "      <td>2</td>\n",
       "      <td>corailintercite</td>\n",
       "      <td>Intercités</td>\n",
       "      <td>False</td>\n",
       "      <td>False</td>\n",
       "      <td>True</td>\n",
       "      <td>False</td>\n",
       "      <td>train</td>\n",
       "    </tr>\n",
       "    <tr>\n",
       "      <th>4</th>\n",
       "      <td>6795029</td>\n",
       "      <td>8381</td>\n",
       "      <td>5905.0</td>\n",
       "      <td>6495.0</td>\n",
       "      <td>2017-10-13 21:46:00+00</td>\n",
       "      <td>2017-10-14 19:32:00+00</td>\n",
       "      <td>7710</td>\n",
       "      <td>2017-10-01 00:13:40.213+00</td>\n",
       "      <td>{5983,5983}</td>\n",
       "      <td>{8380}</td>\n",
       "      <td>...</td>\n",
       "      <td>8381</td>\n",
       "      <td>10</td>\n",
       "      <td>6</td>\n",
       "      <td>coraillunea</td>\n",
       "      <td>Intercités de Nuit</td>\n",
       "      <td>False</td>\n",
       "      <td>False</td>\n",
       "      <td>True</td>\n",
       "      <td>False</td>\n",
       "      <td>train</td>\n",
       "    </tr>\n",
       "  </tbody>\n",
       "</table>\n",
       "<p>5 rows × 23 columns</p>\n",
       "</div>"
      ],
      "text/plain": [
       "      id_x  company  o_station  d_station            departure_ts  \\\n",
       "0  6795025     8385        NaN        NaN  2017-10-13 14:00:00+00   \n",
       "1  6795026        9       63.0     1044.0  2017-10-13 13:05:00+00   \n",
       "2  6795027     8377     5905.0     6495.0  2017-10-13 13:27:00+00   \n",
       "3  6795028     8377     5905.0     6495.0  2017-10-13 13:27:00+00   \n",
       "4  6795029     8381     5905.0     6495.0  2017-10-13 21:46:00+00   \n",
       "\n",
       "               arrival_ts  price_in_cents                   search_ts  \\\n",
       "0  2017-10-13 20:10:00+00            4550  2017-10-01 00:13:31.327+00   \n",
       "1  2017-10-14 06:55:00+00            1450  2017-10-01 00:13:35.773+00   \n",
       "2  2017-10-14 21:24:00+00            7400  2017-10-01 00:13:40.212+00   \n",
       "3  2017-10-14 11:02:00+00           13500  2017-10-01 00:13:40.213+00   \n",
       "4  2017-10-14 19:32:00+00            7710  2017-10-01 00:13:40.213+00   \n",
       "\n",
       "       middle_stations other_companies  ...  id_y  company_id  provider_id  \\\n",
       "0                  NaN             NaN  ...  8385          11          NaN   \n",
       "1            {149,418}            {13}  ...     9           1          NaN   \n",
       "2  {798,798,6794,6246}     {8377,8376}  ...  8377          10            2   \n",
       "3  {798,798,6794,6246}     {8377,8376}  ...  8377          10            2   \n",
       "4          {5983,5983}          {8380}  ...  8381          10            6   \n",
       "\n",
       "              name            fullname has_wifi has_plug has_adjustable_seats  \\\n",
       "0              bbc           Blablacar    False    False                False   \n",
       "1           ouibus              Ouibus     True     True                 True   \n",
       "2  corailintercite          Intercités    False    False                 True   \n",
       "3  corailintercite          Intercités    False    False                 True   \n",
       "4      coraillunea  Intercités de Nuit    False    False                 True   \n",
       "\n",
       "  has_bicycle transport_type  \n",
       "0       False     carpooling  \n",
       "1       False            bus  \n",
       "2       False          train  \n",
       "3       False          train  \n",
       "4       False          train  \n",
       "\n",
       "[5 rows x 23 columns]"
      ]
     },
     "execution_count": 43,
     "metadata": {},
     "output_type": "execute_result"
    }
   ],
   "source": [
    "# Merge des providers et des tickets dans le DataFrame merged\n",
    "merged = pd.merge(df3, df1, how='left', left_on=['company'], right_on=['id'])\n",
    "merged.head()"
   ]
  },
  {
   "cell_type": "code",
   "execution_count": 44,
   "metadata": {},
   "outputs": [],
   "source": [
    "#Convert type timedelta64 to hours, minutes, seconds\n",
    "def timedelta_to_hours(row, col):                 #row : ligne du dataframe / col : colonne du dataframe\n",
    "    days, seconds = row[col].days, row[col].seconds\n",
    "    hours = days * 24 + seconds // 3600\n",
    "    minutes = (seconds % 3600) // 60\n",
    "    seconds = (seconds % 60)\n",
    "    return hours, minutes, seconds\n"
   ]
  },
  {
   "cell_type": "markdown",
   "metadata": {},
   "source": [
    "* Count Travel period "
   ]
  },
  {
   "cell_type": "code",
   "execution_count": 45,
   "metadata": {},
   "outputs": [],
   "source": [
    "merged['date_depart'] = pd.to_datetime(merged['departure_ts'])\n",
    "merged['date_arriv'] = pd.to_datetime(merged['arrival_ts'])\n",
    "def duree_trajet(arriv,depart):\n",
    "    return (arriv - depart)\n",
    "\n",
    "merged['duree_trajet'] = merged[['date_arriv','date_depart']].apply(lambda x: duree_trajet(*x), axis=1)\n",
    "merged['duree_trajet_hours'] = merged.apply(timedelta_to_hours, args=['duree_trajet'], axis=1)"
   ]
  },
  {
   "cell_type": "code",
   "execution_count": 46,
   "metadata": {},
   "outputs": [
    {
     "data": {
      "text/html": [
       "<div>\n",
       "<style scoped>\n",
       "    .dataframe tbody tr th:only-of-type {\n",
       "        vertical-align: middle;\n",
       "    }\n",
       "\n",
       "    .dataframe tbody tr th {\n",
       "        vertical-align: top;\n",
       "    }\n",
       "\n",
       "    .dataframe thead th {\n",
       "        text-align: right;\n",
       "    }\n",
       "</style>\n",
       "<table border=\"1\" class=\"dataframe\">\n",
       "  <thead>\n",
       "    <tr style=\"text-align: right;\">\n",
       "      <th></th>\n",
       "      <th>id_x</th>\n",
       "      <th>company</th>\n",
       "      <th>o_station</th>\n",
       "      <th>d_station</th>\n",
       "      <th>departure_ts</th>\n",
       "      <th>arrival_ts</th>\n",
       "      <th>price_in_cents</th>\n",
       "      <th>search_ts</th>\n",
       "      <th>middle_stations</th>\n",
       "      <th>other_companies</th>\n",
       "      <th>...</th>\n",
       "      <th>fullname</th>\n",
       "      <th>has_wifi</th>\n",
       "      <th>has_plug</th>\n",
       "      <th>has_adjustable_seats</th>\n",
       "      <th>has_bicycle</th>\n",
       "      <th>transport_type</th>\n",
       "      <th>date_depart</th>\n",
       "      <th>date_arriv</th>\n",
       "      <th>duree_trajet</th>\n",
       "      <th>duree_trajet_hours</th>\n",
       "    </tr>\n",
       "  </thead>\n",
       "  <tbody>\n",
       "    <tr>\n",
       "      <th>0</th>\n",
       "      <td>6795025</td>\n",
       "      <td>8385</td>\n",
       "      <td>NaN</td>\n",
       "      <td>NaN</td>\n",
       "      <td>2017-10-13 14:00:00+00</td>\n",
       "      <td>2017-10-13 20:10:00+00</td>\n",
       "      <td>4550</td>\n",
       "      <td>2017-10-01 00:13:31.327+00</td>\n",
       "      <td>NaN</td>\n",
       "      <td>NaN</td>\n",
       "      <td>...</td>\n",
       "      <td>Blablacar</td>\n",
       "      <td>False</td>\n",
       "      <td>False</td>\n",
       "      <td>False</td>\n",
       "      <td>False</td>\n",
       "      <td>carpooling</td>\n",
       "      <td>2017-10-13 14:00:00+00:00</td>\n",
       "      <td>2017-10-13 20:10:00+00:00</td>\n",
       "      <td>0 days 06:10:00</td>\n",
       "      <td>(6, 10, 0)</td>\n",
       "    </tr>\n",
       "    <tr>\n",
       "      <th>1</th>\n",
       "      <td>6795026</td>\n",
       "      <td>9</td>\n",
       "      <td>63.0</td>\n",
       "      <td>1044.0</td>\n",
       "      <td>2017-10-13 13:05:00+00</td>\n",
       "      <td>2017-10-14 06:55:00+00</td>\n",
       "      <td>1450</td>\n",
       "      <td>2017-10-01 00:13:35.773+00</td>\n",
       "      <td>{149,418}</td>\n",
       "      <td>{13}</td>\n",
       "      <td>...</td>\n",
       "      <td>Ouibus</td>\n",
       "      <td>True</td>\n",
       "      <td>True</td>\n",
       "      <td>True</td>\n",
       "      <td>False</td>\n",
       "      <td>bus</td>\n",
       "      <td>2017-10-13 13:05:00+00:00</td>\n",
       "      <td>2017-10-14 06:55:00+00:00</td>\n",
       "      <td>0 days 17:50:00</td>\n",
       "      <td>(17, 50, 0)</td>\n",
       "    </tr>\n",
       "    <tr>\n",
       "      <th>2</th>\n",
       "      <td>6795027</td>\n",
       "      <td>8377</td>\n",
       "      <td>5905.0</td>\n",
       "      <td>6495.0</td>\n",
       "      <td>2017-10-13 13:27:00+00</td>\n",
       "      <td>2017-10-14 21:24:00+00</td>\n",
       "      <td>7400</td>\n",
       "      <td>2017-10-01 00:13:40.212+00</td>\n",
       "      <td>{798,798,6794,6246}</td>\n",
       "      <td>{8377,8376}</td>\n",
       "      <td>...</td>\n",
       "      <td>Intercités</td>\n",
       "      <td>False</td>\n",
       "      <td>False</td>\n",
       "      <td>True</td>\n",
       "      <td>False</td>\n",
       "      <td>train</td>\n",
       "      <td>2017-10-13 13:27:00+00:00</td>\n",
       "      <td>2017-10-14 21:24:00+00:00</td>\n",
       "      <td>1 days 07:57:00</td>\n",
       "      <td>(31, 57, 0)</td>\n",
       "    </tr>\n",
       "    <tr>\n",
       "      <th>3</th>\n",
       "      <td>6795028</td>\n",
       "      <td>8377</td>\n",
       "      <td>5905.0</td>\n",
       "      <td>6495.0</td>\n",
       "      <td>2017-10-13 13:27:00+00</td>\n",
       "      <td>2017-10-14 11:02:00+00</td>\n",
       "      <td>13500</td>\n",
       "      <td>2017-10-01 00:13:40.213+00</td>\n",
       "      <td>{798,798,6794,6246}</td>\n",
       "      <td>{8377,8376}</td>\n",
       "      <td>...</td>\n",
       "      <td>Intercités</td>\n",
       "      <td>False</td>\n",
       "      <td>False</td>\n",
       "      <td>True</td>\n",
       "      <td>False</td>\n",
       "      <td>train</td>\n",
       "      <td>2017-10-13 13:27:00+00:00</td>\n",
       "      <td>2017-10-14 11:02:00+00:00</td>\n",
       "      <td>0 days 21:35:00</td>\n",
       "      <td>(21, 35, 0)</td>\n",
       "    </tr>\n",
       "    <tr>\n",
       "      <th>4</th>\n",
       "      <td>6795029</td>\n",
       "      <td>8381</td>\n",
       "      <td>5905.0</td>\n",
       "      <td>6495.0</td>\n",
       "      <td>2017-10-13 21:46:00+00</td>\n",
       "      <td>2017-10-14 19:32:00+00</td>\n",
       "      <td>7710</td>\n",
       "      <td>2017-10-01 00:13:40.213+00</td>\n",
       "      <td>{5983,5983}</td>\n",
       "      <td>{8380}</td>\n",
       "      <td>...</td>\n",
       "      <td>Intercités de Nuit</td>\n",
       "      <td>False</td>\n",
       "      <td>False</td>\n",
       "      <td>True</td>\n",
       "      <td>False</td>\n",
       "      <td>train</td>\n",
       "      <td>2017-10-13 21:46:00+00:00</td>\n",
       "      <td>2017-10-14 19:32:00+00:00</td>\n",
       "      <td>0 days 21:46:00</td>\n",
       "      <td>(21, 46, 0)</td>\n",
       "    </tr>\n",
       "    <tr>\n",
       "      <th>...</th>\n",
       "      <td>...</td>\n",
       "      <td>...</td>\n",
       "      <td>...</td>\n",
       "      <td>...</td>\n",
       "      <td>...</td>\n",
       "      <td>...</td>\n",
       "      <td>...</td>\n",
       "      <td>...</td>\n",
       "      <td>...</td>\n",
       "      <td>...</td>\n",
       "      <td>...</td>\n",
       "      <td>...</td>\n",
       "      <td>...</td>\n",
       "      <td>...</td>\n",
       "      <td>...</td>\n",
       "      <td>...</td>\n",
       "      <td>...</td>\n",
       "      <td>...</td>\n",
       "      <td>...</td>\n",
       "      <td>...</td>\n",
       "      <td>...</td>\n",
       "    </tr>\n",
       "    <tr>\n",
       "      <th>95</th>\n",
       "      <td>6795119</td>\n",
       "      <td>8385</td>\n",
       "      <td>NaN</td>\n",
       "      <td>NaN</td>\n",
       "      <td>2017-10-01 20:00:00+00</td>\n",
       "      <td>2017-10-01 22:50:00+00</td>\n",
       "      <td>1900</td>\n",
       "      <td>2017-10-01 03:40:04.769+00</td>\n",
       "      <td>NaN</td>\n",
       "      <td>NaN</td>\n",
       "      <td>...</td>\n",
       "      <td>Blablacar</td>\n",
       "      <td>False</td>\n",
       "      <td>False</td>\n",
       "      <td>False</td>\n",
       "      <td>False</td>\n",
       "      <td>carpooling</td>\n",
       "      <td>2017-10-01 20:00:00+00:00</td>\n",
       "      <td>2017-10-01 22:50:00+00:00</td>\n",
       "      <td>0 days 02:50:00</td>\n",
       "      <td>(2, 50, 0)</td>\n",
       "    </tr>\n",
       "    <tr>\n",
       "      <th>96</th>\n",
       "      <td>6795120</td>\n",
       "      <td>8385</td>\n",
       "      <td>NaN</td>\n",
       "      <td>NaN</td>\n",
       "      <td>2017-10-01 22:10:00+00</td>\n",
       "      <td>2017-10-02 00:50:00+00</td>\n",
       "      <td>1900</td>\n",
       "      <td>2017-10-01 03:40:04.769+00</td>\n",
       "      <td>NaN</td>\n",
       "      <td>NaN</td>\n",
       "      <td>...</td>\n",
       "      <td>Blablacar</td>\n",
       "      <td>False</td>\n",
       "      <td>False</td>\n",
       "      <td>False</td>\n",
       "      <td>False</td>\n",
       "      <td>carpooling</td>\n",
       "      <td>2017-10-01 22:10:00+00:00</td>\n",
       "      <td>2017-10-02 00:50:00+00:00</td>\n",
       "      <td>0 days 02:40:00</td>\n",
       "      <td>(2, 40, 0)</td>\n",
       "    </tr>\n",
       "    <tr>\n",
       "      <th>97</th>\n",
       "      <td>6795121</td>\n",
       "      <td>13</td>\n",
       "      <td>481.0</td>\n",
       "      <td>283.0</td>\n",
       "      <td>2017-10-01 06:45:00+00</td>\n",
       "      <td>2017-10-02 05:00:00+00</td>\n",
       "      <td>5490</td>\n",
       "      <td>2017-10-01 03:40:07.057+00</td>\n",
       "      <td>{249,249}</td>\n",
       "      <td>{13}</td>\n",
       "      <td>...</td>\n",
       "      <td>Flixbus</td>\n",
       "      <td>True</td>\n",
       "      <td>False</td>\n",
       "      <td>False</td>\n",
       "      <td>False</td>\n",
       "      <td>bus</td>\n",
       "      <td>2017-10-01 06:45:00+00:00</td>\n",
       "      <td>2017-10-02 05:00:00+00:00</td>\n",
       "      <td>0 days 22:15:00</td>\n",
       "      <td>(22, 15, 0)</td>\n",
       "    </tr>\n",
       "    <tr>\n",
       "      <th>98</th>\n",
       "      <td>6795122</td>\n",
       "      <td>13</td>\n",
       "      <td>481.0</td>\n",
       "      <td>283.0</td>\n",
       "      <td>2017-10-01 06:45:00+00</td>\n",
       "      <td>2017-10-01 18:45:00+00</td>\n",
       "      <td>6490</td>\n",
       "      <td>2017-10-01 03:40:07.057+00</td>\n",
       "      <td>{249,249}</td>\n",
       "      <td>{13}</td>\n",
       "      <td>...</td>\n",
       "      <td>Flixbus</td>\n",
       "      <td>True</td>\n",
       "      <td>False</td>\n",
       "      <td>False</td>\n",
       "      <td>False</td>\n",
       "      <td>bus</td>\n",
       "      <td>2017-10-01 06:45:00+00:00</td>\n",
       "      <td>2017-10-01 18:45:00+00:00</td>\n",
       "      <td>0 days 12:00:00</td>\n",
       "      <td>(12, 0, 0)</td>\n",
       "    </tr>\n",
       "    <tr>\n",
       "      <th>99</th>\n",
       "      <td>6795123</td>\n",
       "      <td>9</td>\n",
       "      <td>481.0</td>\n",
       "      <td>248.0</td>\n",
       "      <td>2017-10-01 16:50:00+00</td>\n",
       "      <td>2017-10-02 09:30:00+00</td>\n",
       "      <td>1900</td>\n",
       "      <td>2017-10-01 03:40:07.057+00</td>\n",
       "      <td>{330,330}</td>\n",
       "      <td>{9}</td>\n",
       "      <td>...</td>\n",
       "      <td>Ouibus</td>\n",
       "      <td>True</td>\n",
       "      <td>True</td>\n",
       "      <td>True</td>\n",
       "      <td>False</td>\n",
       "      <td>bus</td>\n",
       "      <td>2017-10-01 16:50:00+00:00</td>\n",
       "      <td>2017-10-02 09:30:00+00:00</td>\n",
       "      <td>0 days 16:40:00</td>\n",
       "      <td>(16, 40, 0)</td>\n",
       "    </tr>\n",
       "  </tbody>\n",
       "</table>\n",
       "<p>100 rows × 27 columns</p>\n",
       "</div>"
      ],
      "text/plain": [
       "       id_x  company  o_station  d_station            departure_ts  \\\n",
       "0   6795025     8385        NaN        NaN  2017-10-13 14:00:00+00   \n",
       "1   6795026        9       63.0     1044.0  2017-10-13 13:05:00+00   \n",
       "2   6795027     8377     5905.0     6495.0  2017-10-13 13:27:00+00   \n",
       "3   6795028     8377     5905.0     6495.0  2017-10-13 13:27:00+00   \n",
       "4   6795029     8381     5905.0     6495.0  2017-10-13 21:46:00+00   \n",
       "..      ...      ...        ...        ...                     ...   \n",
       "95  6795119     8385        NaN        NaN  2017-10-01 20:00:00+00   \n",
       "96  6795120     8385        NaN        NaN  2017-10-01 22:10:00+00   \n",
       "97  6795121       13      481.0      283.0  2017-10-01 06:45:00+00   \n",
       "98  6795122       13      481.0      283.0  2017-10-01 06:45:00+00   \n",
       "99  6795123        9      481.0      248.0  2017-10-01 16:50:00+00   \n",
       "\n",
       "                arrival_ts  price_in_cents                   search_ts  \\\n",
       "0   2017-10-13 20:10:00+00            4550  2017-10-01 00:13:31.327+00   \n",
       "1   2017-10-14 06:55:00+00            1450  2017-10-01 00:13:35.773+00   \n",
       "2   2017-10-14 21:24:00+00            7400  2017-10-01 00:13:40.212+00   \n",
       "3   2017-10-14 11:02:00+00           13500  2017-10-01 00:13:40.213+00   \n",
       "4   2017-10-14 19:32:00+00            7710  2017-10-01 00:13:40.213+00   \n",
       "..                     ...             ...                         ...   \n",
       "95  2017-10-01 22:50:00+00            1900  2017-10-01 03:40:04.769+00   \n",
       "96  2017-10-02 00:50:00+00            1900  2017-10-01 03:40:04.769+00   \n",
       "97  2017-10-02 05:00:00+00            5490  2017-10-01 03:40:07.057+00   \n",
       "98  2017-10-01 18:45:00+00            6490  2017-10-01 03:40:07.057+00   \n",
       "99  2017-10-02 09:30:00+00            1900  2017-10-01 03:40:07.057+00   \n",
       "\n",
       "        middle_stations other_companies  ...            fullname  has_wifi  \\\n",
       "0                   NaN             NaN  ...           Blablacar     False   \n",
       "1             {149,418}            {13}  ...              Ouibus      True   \n",
       "2   {798,798,6794,6246}     {8377,8376}  ...          Intercités     False   \n",
       "3   {798,798,6794,6246}     {8377,8376}  ...          Intercités     False   \n",
       "4           {5983,5983}          {8380}  ...  Intercités de Nuit     False   \n",
       "..                  ...             ...  ...                 ...       ...   \n",
       "95                  NaN             NaN  ...           Blablacar     False   \n",
       "96                  NaN             NaN  ...           Blablacar     False   \n",
       "97            {249,249}            {13}  ...             Flixbus      True   \n",
       "98            {249,249}            {13}  ...             Flixbus      True   \n",
       "99            {330,330}             {9}  ...              Ouibus      True   \n",
       "\n",
       "    has_plug  has_adjustable_seats  has_bicycle transport_type  \\\n",
       "0      False                 False        False     carpooling   \n",
       "1       True                  True        False            bus   \n",
       "2      False                  True        False          train   \n",
       "3      False                  True        False          train   \n",
       "4      False                  True        False          train   \n",
       "..       ...                   ...          ...            ...   \n",
       "95     False                 False        False     carpooling   \n",
       "96     False                 False        False     carpooling   \n",
       "97     False                 False        False            bus   \n",
       "98     False                 False        False            bus   \n",
       "99      True                  True        False            bus   \n",
       "\n",
       "                 date_depart                date_arriv    duree_trajet  \\\n",
       "0  2017-10-13 14:00:00+00:00 2017-10-13 20:10:00+00:00 0 days 06:10:00   \n",
       "1  2017-10-13 13:05:00+00:00 2017-10-14 06:55:00+00:00 0 days 17:50:00   \n",
       "2  2017-10-13 13:27:00+00:00 2017-10-14 21:24:00+00:00 1 days 07:57:00   \n",
       "3  2017-10-13 13:27:00+00:00 2017-10-14 11:02:00+00:00 0 days 21:35:00   \n",
       "4  2017-10-13 21:46:00+00:00 2017-10-14 19:32:00+00:00 0 days 21:46:00   \n",
       "..                       ...                       ...             ...   \n",
       "95 2017-10-01 20:00:00+00:00 2017-10-01 22:50:00+00:00 0 days 02:50:00   \n",
       "96 2017-10-01 22:10:00+00:00 2017-10-02 00:50:00+00:00 0 days 02:40:00   \n",
       "97 2017-10-01 06:45:00+00:00 2017-10-02 05:00:00+00:00 0 days 22:15:00   \n",
       "98 2017-10-01 06:45:00+00:00 2017-10-01 18:45:00+00:00 0 days 12:00:00   \n",
       "99 2017-10-01 16:50:00+00:00 2017-10-02 09:30:00+00:00 0 days 16:40:00   \n",
       "\n",
       "   duree_trajet_hours  \n",
       "0          (6, 10, 0)  \n",
       "1         (17, 50, 0)  \n",
       "2         (31, 57, 0)  \n",
       "3         (21, 35, 0)  \n",
       "4         (21, 46, 0)  \n",
       "..                ...  \n",
       "95         (2, 50, 0)  \n",
       "96         (2, 40, 0)  \n",
       "97        (22, 15, 0)  \n",
       "98         (12, 0, 0)  \n",
       "99        (16, 40, 0)  \n",
       "\n",
       "[100 rows x 27 columns]"
      ]
     },
     "execution_count": 46,
     "metadata": {},
     "output_type": "execute_result"
    }
   ],
   "source": [
    "merged.head(100)"
   ]
  },
  {
   "cell_type": "markdown",
   "metadata": {},
   "source": [
    "* Adding the details regarding the Public holidays from September 2017 to December 2017"
   ]
  },
  {
   "cell_type": "code",
   "execution_count": 47,
   "metadata": {},
   "outputs": [],
   "source": [
    "def holiday_label (row):\n",
    "    if row == datetime.date(2017, 9, 22) :\n",
    "          return '1'\n",
    "    if row == datetime.date(2017, 10, 31) :\n",
    "          return '1'\n",
    "    if row == datetime.date(2017, 11, 1) :\n",
    "          return '2'\n",
    "    if row == datetime.date(2017, 11, 11):\n",
    "          return '1'\n",
    "    if row  == datetime.date(2017, 12, 21):\n",
    "          return '1'\n",
    "    if row == datetime.date(2017, 12, 24):\n",
    "          return '1'\n",
    "    if row == datetime.date(2017, 12, 25) :\n",
    "          return '2'\n",
    "    if row == datetime.date(2017, 12, 26):\n",
    "          return '2'\n",
    "    if row == datetime.date(2017, 12, 31):\n",
    "          return '1'\n",
    "    return '0'"
   ]
  },
  {
   "cell_type": "code",
   "execution_count": 48,
   "metadata": {
    "scrolled": true
   },
   "outputs": [],
   "source": [
    "import datetime\n",
    "merged.insert(12,'holiday_label',pd.to_datetime)\n",
    "merged['holiday_label'] = merged['holiday_label'].apply (lambda row: holiday_label(row))"
   ]
  },
  {
   "cell_type": "code",
   "execution_count": 49,
   "metadata": {},
   "outputs": [
    {
     "data": {
      "text/plain": [
       "Index(['id_x', 'company', 'o_station', 'd_station', 'departure_ts',\n",
       "       'arrival_ts', 'price_in_cents', 'search_ts', 'middle_stations',\n",
       "       'other_companies', 'o_city', 'd_city', 'holiday_label', 'price', 'id_y',\n",
       "       'company_id', 'provider_id', 'name', 'fullname', 'has_wifi', 'has_plug',\n",
       "       'has_adjustable_seats', 'has_bicycle', 'transport_type', 'date_depart',\n",
       "       'date_arriv', 'duree_trajet', 'duree_trajet_hours'],\n",
       "      dtype='object')"
      ]
     },
     "execution_count": 49,
     "metadata": {},
     "output_type": "execute_result"
    }
   ],
   "source": [
    "merged.columns"
   ]
  },
  {
   "cell_type": "markdown",
   "metadata": {},
   "source": [
    "* Price per provider (sum,count,maw,min) :"
   ]
  },
  {
   "cell_type": "code",
   "execution_count": 50,
   "metadata": {},
   "outputs": [
    {
     "data": {
      "text/html": [
       "<div>\n",
       "<style scoped>\n",
       "    .dataframe tbody tr th:only-of-type {\n",
       "        vertical-align: middle;\n",
       "    }\n",
       "\n",
       "    .dataframe tbody tr th {\n",
       "        vertical-align: top;\n",
       "    }\n",
       "\n",
       "    .dataframe thead th {\n",
       "        text-align: right;\n",
       "    }\n",
       "</style>\n",
       "<table border=\"1\" class=\"dataframe\">\n",
       "  <thead>\n",
       "    <tr style=\"text-align: right;\">\n",
       "      <th></th>\n",
       "      <th>provider_id</th>\n",
       "      <th>price_sum</th>\n",
       "      <th>price_count</th>\n",
       "      <th>price_max</th>\n",
       "      <th>price_min</th>\n",
       "    </tr>\n",
       "  </thead>\n",
       "  <tbody>\n",
       "    <tr>\n",
       "      <th>0</th>\n",
       "      <td>1</td>\n",
       "      <td>787469.50</td>\n",
       "      <td>8654</td>\n",
       "      <td>351.00</td>\n",
       "      <td>12.30</td>\n",
       "    </tr>\n",
       "    <tr>\n",
       "      <th>1</th>\n",
       "      <td>141</td>\n",
       "      <td>163.95</td>\n",
       "      <td>1</td>\n",
       "      <td>163.95</td>\n",
       "      <td>163.95</td>\n",
       "    </tr>\n",
       "    <tr>\n",
       "      <th>2</th>\n",
       "      <td>16</td>\n",
       "      <td>118677.10</td>\n",
       "      <td>796</td>\n",
       "      <td>339.00</td>\n",
       "      <td>41.60</td>\n",
       "    </tr>\n",
       "    <tr>\n",
       "      <th>3</th>\n",
       "      <td>2</td>\n",
       "      <td>151534.70</td>\n",
       "      <td>2193</td>\n",
       "      <td>271.40</td>\n",
       "      <td>11.40</td>\n",
       "    </tr>\n",
       "    <tr>\n",
       "      <th>4</th>\n",
       "      <td>299</td>\n",
       "      <td>8111.82</td>\n",
       "      <td>252</td>\n",
       "      <td>153.64</td>\n",
       "      <td>12.88</td>\n",
       "    </tr>\n",
       "    <tr>\n",
       "      <th>5</th>\n",
       "      <td>4</td>\n",
       "      <td>10842.50</td>\n",
       "      <td>170</td>\n",
       "      <td>224.80</td>\n",
       "      <td>9.90</td>\n",
       "    </tr>\n",
       "    <tr>\n",
       "      <th>6</th>\n",
       "      <td>5</td>\n",
       "      <td>466163.00</td>\n",
       "      <td>6763</td>\n",
       "      <td>301.60</td>\n",
       "      <td>4.90</td>\n",
       "    </tr>\n",
       "    <tr>\n",
       "      <th>7</th>\n",
       "      <td>507</td>\n",
       "      <td>150.99</td>\n",
       "      <td>3</td>\n",
       "      <td>71.40</td>\n",
       "      <td>38.29</td>\n",
       "    </tr>\n",
       "    <tr>\n",
       "      <th>8</th>\n",
       "      <td>545</td>\n",
       "      <td>24.50</td>\n",
       "      <td>1</td>\n",
       "      <td>24.50</td>\n",
       "      <td>24.50</td>\n",
       "    </tr>\n",
       "    <tr>\n",
       "      <th>9</th>\n",
       "      <td>597</td>\n",
       "      <td>1116.00</td>\n",
       "      <td>16</td>\n",
       "      <td>103.00</td>\n",
       "      <td>50.00</td>\n",
       "    </tr>\n",
       "    <tr>\n",
       "      <th>10</th>\n",
       "      <td>6</td>\n",
       "      <td>1451.70</td>\n",
       "      <td>14</td>\n",
       "      <td>134.00</td>\n",
       "      <td>75.30</td>\n",
       "    </tr>\n",
       "    <tr>\n",
       "      <th>11</th>\n",
       "      <td>8</td>\n",
       "      <td>84924.90</td>\n",
       "      <td>509</td>\n",
       "      <td>385.50</td>\n",
       "      <td>33.30</td>\n",
       "    </tr>\n",
       "    <tr>\n",
       "      <th>12</th>\n",
       "      <td>E</td>\n",
       "      <td>34420.12</td>\n",
       "      <td>725</td>\n",
       "      <td>168.90</td>\n",
       "      <td>14.00</td>\n",
       "    </tr>\n",
       "    <tr>\n",
       "      <th>13</th>\n",
       "      <td>I</td>\n",
       "      <td>49428.02</td>\n",
       "      <td>1607</td>\n",
       "      <td>135.96</td>\n",
       "      <td>8.50</td>\n",
       "    </tr>\n",
       "  </tbody>\n",
       "</table>\n",
       "</div>"
      ],
      "text/plain": [
       "   provider_id  price_sum  price_count  price_max  price_min\n",
       "0            1  787469.50         8654     351.00      12.30\n",
       "1          141     163.95            1     163.95     163.95\n",
       "2           16  118677.10          796     339.00      41.60\n",
       "3            2  151534.70         2193     271.40      11.40\n",
       "4          299    8111.82          252     153.64      12.88\n",
       "5            4   10842.50          170     224.80       9.90\n",
       "6            5  466163.00         6763     301.60       4.90\n",
       "7          507     150.99            3      71.40      38.29\n",
       "8          545      24.50            1      24.50      24.50\n",
       "9          597    1116.00           16     103.00      50.00\n",
       "10           6    1451.70           14     134.00      75.30\n",
       "11           8   84924.90          509     385.50      33.30\n",
       "12           E   34420.12          725     168.90      14.00\n",
       "13           I   49428.02         1607     135.96       8.50"
      ]
     },
     "execution_count": 50,
     "metadata": {},
     "output_type": "execute_result"
    }
   ],
   "source": [
    "merged1=merged.groupby(['provider_id']).agg({'price': ['sum', 'count','max','min']})\n",
    "merged1.columns = [\"_\".join(x) for x in merged1.columns.ravel()]\n",
    "st_week_grp = pd.DataFrame(merged1).reset_index()\n",
    "st_week_grp.shape\n",
    "st_week_grp.head(100)"
   ]
  },
  {
   "cell_type": "markdown",
   "metadata": {},
   "source": [
    "* Price per fullname_company (sum,count,maw,min)"
   ]
  },
  {
   "cell_type": "code",
   "execution_count": 51,
   "metadata": {},
   "outputs": [
    {
     "data": {
      "text/html": [
       "<div>\n",
       "<style scoped>\n",
       "    .dataframe tbody tr th:only-of-type {\n",
       "        vertical-align: middle;\n",
       "    }\n",
       "\n",
       "    .dataframe tbody tr th {\n",
       "        vertical-align: top;\n",
       "    }\n",
       "\n",
       "    .dataframe thead th {\n",
       "        text-align: right;\n",
       "    }\n",
       "</style>\n",
       "<table border=\"1\" class=\"dataframe\">\n",
       "  <thead>\n",
       "    <tr style=\"text-align: right;\">\n",
       "      <th></th>\n",
       "      <th>fullname</th>\n",
       "      <th>price_sum</th>\n",
       "      <th>price_count</th>\n",
       "      <th>price_max</th>\n",
       "      <th>price_min</th>\n",
       "    </tr>\n",
       "  </thead>\n",
       "  <tbody>\n",
       "    <tr>\n",
       "      <th>0</th>\n",
       "      <td>Blablacar</td>\n",
       "      <td>1136383.46</td>\n",
       "      <td>41441</td>\n",
       "      <td>161.50</td>\n",
       "      <td>3.00</td>\n",
       "    </tr>\n",
       "    <tr>\n",
       "      <th>1</th>\n",
       "      <td>Deinbus.de</td>\n",
       "      <td>293.90</td>\n",
       "      <td>9</td>\n",
       "      <td>52.00</td>\n",
       "      <td>24.00</td>\n",
       "    </tr>\n",
       "    <tr>\n",
       "      <th>2</th>\n",
       "      <td>Eurolines</td>\n",
       "      <td>34420.12</td>\n",
       "      <td>725</td>\n",
       "      <td>168.90</td>\n",
       "      <td>14.00</td>\n",
       "    </tr>\n",
       "    <tr>\n",
       "      <th>3</th>\n",
       "      <td>Eurolines UK</td>\n",
       "      <td>150.99</td>\n",
       "      <td>3</td>\n",
       "      <td>71.40</td>\n",
       "      <td>38.29</td>\n",
       "    </tr>\n",
       "    <tr>\n",
       "      <th>4</th>\n",
       "      <td>Eurostar</td>\n",
       "      <td>84924.90</td>\n",
       "      <td>509</td>\n",
       "      <td>385.50</td>\n",
       "      <td>33.30</td>\n",
       "    </tr>\n",
       "    <tr>\n",
       "      <th>5</th>\n",
       "      <td>ExpressBus</td>\n",
       "      <td>163.95</td>\n",
       "      <td>1</td>\n",
       "      <td>163.95</td>\n",
       "      <td>163.95</td>\n",
       "    </tr>\n",
       "    <tr>\n",
       "      <th>6</th>\n",
       "      <td>Flixbus</td>\n",
       "      <td>279433.35</td>\n",
       "      <td>7433</td>\n",
       "      <td>229.00</td>\n",
       "      <td>8.50</td>\n",
       "    </tr>\n",
       "    <tr>\n",
       "      <th>7</th>\n",
       "      <td>Globtour</td>\n",
       "      <td>24.50</td>\n",
       "      <td>1</td>\n",
       "      <td>24.50</td>\n",
       "      <td>24.50</td>\n",
       "    </tr>\n",
       "    <tr>\n",
       "      <th>8</th>\n",
       "      <td>Intercités</td>\n",
       "      <td>151534.70</td>\n",
       "      <td>2193</td>\n",
       "      <td>271.40</td>\n",
       "      <td>11.40</td>\n",
       "    </tr>\n",
       "    <tr>\n",
       "      <th>9</th>\n",
       "      <td>Intercités de Nuit</td>\n",
       "      <td>1451.70</td>\n",
       "      <td>14</td>\n",
       "      <td>134.00</td>\n",
       "      <td>75.30</td>\n",
       "    </tr>\n",
       "    <tr>\n",
       "      <th>10</th>\n",
       "      <td>Isilines</td>\n",
       "      <td>49428.02</td>\n",
       "      <td>1607</td>\n",
       "      <td>135.96</td>\n",
       "      <td>8.50</td>\n",
       "    </tr>\n",
       "    <tr>\n",
       "      <th>11</th>\n",
       "      <td>National Express</td>\n",
       "      <td>8111.82</td>\n",
       "      <td>252</td>\n",
       "      <td>153.64</td>\n",
       "      <td>12.88</td>\n",
       "    </tr>\n",
       "    <tr>\n",
       "      <th>12</th>\n",
       "      <td>Navette Keolis</td>\n",
       "      <td>10842.50</td>\n",
       "      <td>170</td>\n",
       "      <td>224.80</td>\n",
       "      <td>9.90</td>\n",
       "    </tr>\n",
       "    <tr>\n",
       "      <th>13</th>\n",
       "      <td>Navette de Vatry</td>\n",
       "      <td>1116.00</td>\n",
       "      <td>16</td>\n",
       "      <td>103.00</td>\n",
       "      <td>50.00</td>\n",
       "    </tr>\n",
       "    <tr>\n",
       "      <th>14</th>\n",
       "      <td>Ouibus</td>\n",
       "      <td>118656.19</td>\n",
       "      <td>3560</td>\n",
       "      <td>145.96</td>\n",
       "      <td>8.50</td>\n",
       "    </tr>\n",
       "    <tr>\n",
       "      <th>15</th>\n",
       "      <td>Student Agency</td>\n",
       "      <td>193.44</td>\n",
       "      <td>5</td>\n",
       "      <td>47.77</td>\n",
       "      <td>19.90</td>\n",
       "    </tr>\n",
       "    <tr>\n",
       "      <th>16</th>\n",
       "      <td>TER</td>\n",
       "      <td>466163.00</td>\n",
       "      <td>6763</td>\n",
       "      <td>301.60</td>\n",
       "      <td>4.90</td>\n",
       "    </tr>\n",
       "    <tr>\n",
       "      <th>17</th>\n",
       "      <td>TGV</td>\n",
       "      <td>787469.50</td>\n",
       "      <td>8654</td>\n",
       "      <td>351.00</td>\n",
       "      <td>12.30</td>\n",
       "    </tr>\n",
       "    <tr>\n",
       "      <th>18</th>\n",
       "      <td>Thalys</td>\n",
       "      <td>118677.10</td>\n",
       "      <td>796</td>\n",
       "      <td>339.00</td>\n",
       "      <td>41.60</td>\n",
       "    </tr>\n",
       "    <tr>\n",
       "      <th>19</th>\n",
       "      <td>Vatry</td>\n",
       "      <td>1130.00</td>\n",
       "      <td>16</td>\n",
       "      <td>96.00</td>\n",
       "      <td>50.00</td>\n",
       "    </tr>\n",
       "  </tbody>\n",
       "</table>\n",
       "</div>"
      ],
      "text/plain": [
       "              fullname   price_sum  price_count  price_max  price_min\n",
       "0            Blablacar  1136383.46        41441     161.50       3.00\n",
       "1           Deinbus.de      293.90            9      52.00      24.00\n",
       "2            Eurolines    34420.12          725     168.90      14.00\n",
       "3         Eurolines UK      150.99            3      71.40      38.29\n",
       "4             Eurostar    84924.90          509     385.50      33.30\n",
       "5           ExpressBus      163.95            1     163.95     163.95\n",
       "6              Flixbus   279433.35         7433     229.00       8.50\n",
       "7             Globtour       24.50            1      24.50      24.50\n",
       "8           Intercités   151534.70         2193     271.40      11.40\n",
       "9   Intercités de Nuit     1451.70           14     134.00      75.30\n",
       "10            Isilines    49428.02         1607     135.96       8.50\n",
       "11    National Express     8111.82          252     153.64      12.88\n",
       "12      Navette Keolis    10842.50          170     224.80       9.90\n",
       "13    Navette de Vatry     1116.00           16     103.00      50.00\n",
       "14              Ouibus   118656.19         3560     145.96       8.50\n",
       "15      Student Agency      193.44            5      47.77      19.90\n",
       "16                 TER   466163.00         6763     301.60       4.90\n",
       "17                 TGV   787469.50         8654     351.00      12.30\n",
       "18              Thalys   118677.10          796     339.00      41.60\n",
       "19               Vatry     1130.00           16      96.00      50.00"
      ]
     },
     "execution_count": 51,
     "metadata": {},
     "output_type": "execute_result"
    }
   ],
   "source": [
    "merged2=merged.groupby(['fullname']).agg({'price': ['sum', 'count','max','min']})\n",
    "merged2.columns = [\"_\".join(x) for x in merged2.columns.ravel()]\n",
    "st_week_grp = pd.DataFrame(merged2).reset_index()\n",
    "st_week_grp.shape\n",
    "st_week_grp.head(100)"
   ]
  },
  {
   "cell_type": "markdown",
   "metadata": {},
   "source": [
    "* Price per every type of transport means (sum,count,maw,min)"
   ]
  },
  {
   "cell_type": "code",
   "execution_count": 52,
   "metadata": {},
   "outputs": [
    {
     "data": {
      "text/html": [
       "<div>\n",
       "<style scoped>\n",
       "    .dataframe tbody tr th:only-of-type {\n",
       "        vertical-align: middle;\n",
       "    }\n",
       "\n",
       "    .dataframe tbody tr th {\n",
       "        vertical-align: top;\n",
       "    }\n",
       "\n",
       "    .dataframe thead th {\n",
       "        text-align: right;\n",
       "    }\n",
       "</style>\n",
       "<table border=\"1\" class=\"dataframe\">\n",
       "  <thead>\n",
       "    <tr style=\"text-align: right;\">\n",
       "      <th></th>\n",
       "      <th>transport_type</th>\n",
       "      <th>price_sum</th>\n",
       "      <th>price_count</th>\n",
       "      <th>price_max</th>\n",
       "      <th>price_min</th>\n",
       "    </tr>\n",
       "  </thead>\n",
       "  <tbody>\n",
       "    <tr>\n",
       "      <th>0</th>\n",
       "      <td>bus</td>\n",
       "      <td>503964.78</td>\n",
       "      <td>13798</td>\n",
       "      <td>229.0</td>\n",
       "      <td>8.5</td>\n",
       "    </tr>\n",
       "    <tr>\n",
       "      <th>1</th>\n",
       "      <td>carpooling</td>\n",
       "      <td>1136383.46</td>\n",
       "      <td>41441</td>\n",
       "      <td>161.5</td>\n",
       "      <td>3.0</td>\n",
       "    </tr>\n",
       "    <tr>\n",
       "      <th>2</th>\n",
       "      <td>train</td>\n",
       "      <td>1610220.90</td>\n",
       "      <td>18929</td>\n",
       "      <td>385.5</td>\n",
       "      <td>4.9</td>\n",
       "    </tr>\n",
       "  </tbody>\n",
       "</table>\n",
       "</div>"
      ],
      "text/plain": [
       "  transport_type   price_sum  price_count  price_max  price_min\n",
       "0            bus   503964.78        13798      229.0        8.5\n",
       "1     carpooling  1136383.46        41441      161.5        3.0\n",
       "2          train  1610220.90        18929      385.5        4.9"
      ]
     },
     "execution_count": 52,
     "metadata": {},
     "output_type": "execute_result"
    }
   ],
   "source": [
    "merged3=merged.groupby(['transport_type']).agg({'price': ['sum', 'count','max','min']})\n",
    "merged3.columns = [\"_\".join(x) for x in merged3.columns.ravel()]\n",
    "st_week_grp = pd.DataFrame(merged3).reset_index()\n",
    "st_week_grp.shape\n",
    "st_week_grp.head()"
   ]
  },
  {
   "cell_type": "code",
   "execution_count": null,
   "metadata": {},
   "outputs": [],
   "source": []
  },
  {
   "cell_type": "code",
   "execution_count": 53,
   "metadata": {},
   "outputs": [],
   "source": [
    "# Merge des tickets et des cities dans le DataFrame merged\n",
    "merged4 = pd.merge(df3, df, how='left', left_on=['o_city'], right_on=['id'])\n",
    "merged4.rename(columns={'latitude': 'o_latitude', 'longitude': 'o_longitude'}, inplace=True)\n",
    "merged4 = pd.merge(merged4, df, how='left', left_on=['d_city'], right_on=['id'])\n",
    "merged4.rename(columns={'latitude': 'd_latitude', 'longitude': 'd_longitude'}, inplace=True)"
   ]
  },
  {
   "cell_type": "code",
   "execution_count": 54,
   "metadata": {},
   "outputs": [
    {
     "data": {
      "text/html": [
       "<div>\n",
       "<style scoped>\n",
       "    .dataframe tbody tr th:only-of-type {\n",
       "        vertical-align: middle;\n",
       "    }\n",
       "\n",
       "    .dataframe tbody tr th {\n",
       "        vertical-align: top;\n",
       "    }\n",
       "\n",
       "    .dataframe thead th {\n",
       "        text-align: right;\n",
       "    }\n",
       "</style>\n",
       "<table border=\"1\" class=\"dataframe\">\n",
       "  <thead>\n",
       "    <tr style=\"text-align: right;\">\n",
       "      <th></th>\n",
       "      <th>id_x</th>\n",
       "      <th>company</th>\n",
       "      <th>o_station</th>\n",
       "      <th>d_station</th>\n",
       "      <th>departure_ts</th>\n",
       "      <th>arrival_ts</th>\n",
       "      <th>price_in_cents</th>\n",
       "      <th>search_ts</th>\n",
       "      <th>middle_stations</th>\n",
       "      <th>other_companies</th>\n",
       "      <th>...</th>\n",
       "      <th>id_y</th>\n",
       "      <th>local_name_x</th>\n",
       "      <th>unique_name_x</th>\n",
       "      <th>o_latitude</th>\n",
       "      <th>o_longitude</th>\n",
       "      <th>id</th>\n",
       "      <th>local_name_y</th>\n",
       "      <th>unique_name_y</th>\n",
       "      <th>d_latitude</th>\n",
       "      <th>d_longitude</th>\n",
       "    </tr>\n",
       "  </thead>\n",
       "  <tbody>\n",
       "    <tr>\n",
       "      <th>0</th>\n",
       "      <td>6795025</td>\n",
       "      <td>8385</td>\n",
       "      <td>NaN</td>\n",
       "      <td>NaN</td>\n",
       "      <td>2017-10-13 14:00:00+00</td>\n",
       "      <td>2017-10-13 20:10:00+00</td>\n",
       "      <td>4550</td>\n",
       "      <td>2017-10-01 00:13:31.327+00</td>\n",
       "      <td>NaN</td>\n",
       "      <td>NaN</td>\n",
       "      <td>...</td>\n",
       "      <td>611</td>\n",
       "      <td>Orléans, Centre-Val de Loire, France</td>\n",
       "      <td>orleans</td>\n",
       "      <td>47.907018</td>\n",
       "      <td>1.90627</td>\n",
       "      <td>542</td>\n",
       "      <td>Montpellier, Occitanie, France</td>\n",
       "      <td>montpellier</td>\n",
       "      <td>43.604452</td>\n",
       "      <td>3.918318</td>\n",
       "    </tr>\n",
       "    <tr>\n",
       "      <th>1</th>\n",
       "      <td>6795026</td>\n",
       "      <td>9</td>\n",
       "      <td>63.0</td>\n",
       "      <td>1044.0</td>\n",
       "      <td>2017-10-13 13:05:00+00</td>\n",
       "      <td>2017-10-14 06:55:00+00</td>\n",
       "      <td>1450</td>\n",
       "      <td>2017-10-01 00:13:35.773+00</td>\n",
       "      <td>{149,418}</td>\n",
       "      <td>{13}</td>\n",
       "      <td>...</td>\n",
       "      <td>611</td>\n",
       "      <td>Orléans, Centre-Val de Loire, France</td>\n",
       "      <td>orleans</td>\n",
       "      <td>47.907018</td>\n",
       "      <td>1.90627</td>\n",
       "      <td>542</td>\n",
       "      <td>Montpellier, Occitanie, France</td>\n",
       "      <td>montpellier</td>\n",
       "      <td>43.604452</td>\n",
       "      <td>3.918318</td>\n",
       "    </tr>\n",
       "    <tr>\n",
       "      <th>2</th>\n",
       "      <td>6795027</td>\n",
       "      <td>8377</td>\n",
       "      <td>5905.0</td>\n",
       "      <td>6495.0</td>\n",
       "      <td>2017-10-13 13:27:00+00</td>\n",
       "      <td>2017-10-14 21:24:00+00</td>\n",
       "      <td>7400</td>\n",
       "      <td>2017-10-01 00:13:40.212+00</td>\n",
       "      <td>{798,798,6794,6246}</td>\n",
       "      <td>{8377,8376}</td>\n",
       "      <td>...</td>\n",
       "      <td>611</td>\n",
       "      <td>Orléans, Centre-Val de Loire, France</td>\n",
       "      <td>orleans</td>\n",
       "      <td>47.907018</td>\n",
       "      <td>1.90627</td>\n",
       "      <td>542</td>\n",
       "      <td>Montpellier, Occitanie, France</td>\n",
       "      <td>montpellier</td>\n",
       "      <td>43.604452</td>\n",
       "      <td>3.918318</td>\n",
       "    </tr>\n",
       "    <tr>\n",
       "      <th>3</th>\n",
       "      <td>6795028</td>\n",
       "      <td>8377</td>\n",
       "      <td>5905.0</td>\n",
       "      <td>6495.0</td>\n",
       "      <td>2017-10-13 13:27:00+00</td>\n",
       "      <td>2017-10-14 11:02:00+00</td>\n",
       "      <td>13500</td>\n",
       "      <td>2017-10-01 00:13:40.213+00</td>\n",
       "      <td>{798,798,6794,6246}</td>\n",
       "      <td>{8377,8376}</td>\n",
       "      <td>...</td>\n",
       "      <td>611</td>\n",
       "      <td>Orléans, Centre-Val de Loire, France</td>\n",
       "      <td>orleans</td>\n",
       "      <td>47.907018</td>\n",
       "      <td>1.90627</td>\n",
       "      <td>542</td>\n",
       "      <td>Montpellier, Occitanie, France</td>\n",
       "      <td>montpellier</td>\n",
       "      <td>43.604452</td>\n",
       "      <td>3.918318</td>\n",
       "    </tr>\n",
       "    <tr>\n",
       "      <th>4</th>\n",
       "      <td>6795029</td>\n",
       "      <td>8381</td>\n",
       "      <td>5905.0</td>\n",
       "      <td>6495.0</td>\n",
       "      <td>2017-10-13 21:46:00+00</td>\n",
       "      <td>2017-10-14 19:32:00+00</td>\n",
       "      <td>7710</td>\n",
       "      <td>2017-10-01 00:13:40.213+00</td>\n",
       "      <td>{5983,5983}</td>\n",
       "      <td>{8380}</td>\n",
       "      <td>...</td>\n",
       "      <td>611</td>\n",
       "      <td>Orléans, Centre-Val de Loire, France</td>\n",
       "      <td>orleans</td>\n",
       "      <td>47.907018</td>\n",
       "      <td>1.90627</td>\n",
       "      <td>542</td>\n",
       "      <td>Montpellier, Occitanie, France</td>\n",
       "      <td>montpellier</td>\n",
       "      <td>43.604452</td>\n",
       "      <td>3.918318</td>\n",
       "    </tr>\n",
       "  </tbody>\n",
       "</table>\n",
       "<p>5 rows × 23 columns</p>\n",
       "</div>"
      ],
      "text/plain": [
       "      id_x  company  o_station  d_station            departure_ts  \\\n",
       "0  6795025     8385        NaN        NaN  2017-10-13 14:00:00+00   \n",
       "1  6795026        9       63.0     1044.0  2017-10-13 13:05:00+00   \n",
       "2  6795027     8377     5905.0     6495.0  2017-10-13 13:27:00+00   \n",
       "3  6795028     8377     5905.0     6495.0  2017-10-13 13:27:00+00   \n",
       "4  6795029     8381     5905.0     6495.0  2017-10-13 21:46:00+00   \n",
       "\n",
       "               arrival_ts  price_in_cents                   search_ts  \\\n",
       "0  2017-10-13 20:10:00+00            4550  2017-10-01 00:13:31.327+00   \n",
       "1  2017-10-14 06:55:00+00            1450  2017-10-01 00:13:35.773+00   \n",
       "2  2017-10-14 21:24:00+00            7400  2017-10-01 00:13:40.212+00   \n",
       "3  2017-10-14 11:02:00+00           13500  2017-10-01 00:13:40.213+00   \n",
       "4  2017-10-14 19:32:00+00            7710  2017-10-01 00:13:40.213+00   \n",
       "\n",
       "       middle_stations other_companies  ...  id_y  \\\n",
       "0                  NaN             NaN  ...   611   \n",
       "1            {149,418}            {13}  ...   611   \n",
       "2  {798,798,6794,6246}     {8377,8376}  ...   611   \n",
       "3  {798,798,6794,6246}     {8377,8376}  ...   611   \n",
       "4          {5983,5983}          {8380}  ...   611   \n",
       "\n",
       "                           local_name_x  unique_name_x  o_latitude  \\\n",
       "0  Orléans, Centre-Val de Loire, France        orleans   47.907018   \n",
       "1  Orléans, Centre-Val de Loire, France        orleans   47.907018   \n",
       "2  Orléans, Centre-Val de Loire, France        orleans   47.907018   \n",
       "3  Orléans, Centre-Val de Loire, France        orleans   47.907018   \n",
       "4  Orléans, Centre-Val de Loire, France        orleans   47.907018   \n",
       "\n",
       "  o_longitude   id                    local_name_y  unique_name_y  d_latitude  \\\n",
       "0     1.90627  542  Montpellier, Occitanie, France    montpellier   43.604452   \n",
       "1     1.90627  542  Montpellier, Occitanie, France    montpellier   43.604452   \n",
       "2     1.90627  542  Montpellier, Occitanie, France    montpellier   43.604452   \n",
       "3     1.90627  542  Montpellier, Occitanie, France    montpellier   43.604452   \n",
       "4     1.90627  542  Montpellier, Occitanie, France    montpellier   43.604452   \n",
       "\n",
       "  d_longitude  \n",
       "0    3.918318  \n",
       "1    3.918318  \n",
       "2    3.918318  \n",
       "3    3.918318  \n",
       "4    3.918318  \n",
       "\n",
       "[5 rows x 23 columns]"
      ]
     },
     "execution_count": 54,
     "metadata": {},
     "output_type": "execute_result"
    }
   ],
   "source": [
    "merged4.head()"
   ]
  },
  {
   "cell_type": "markdown",
   "metadata": {},
   "source": [
    "* For Calculating Distance between different cities by using Longitude and Latitude (origin and destination) , we have used the Haversine formula"
   ]
  },
  {
   "cell_type": "code",
   "execution_count": 55,
   "metadata": {},
   "outputs": [],
   "source": [
    "#Calculate the great circle distance in kilometers between two points with haversine formula \n",
    "from math import radians, cos, sin, asin, sqrt\n",
    "\n",
    "def calc_dist(lon1, lat1, lon2, lat2):\n",
    "  \n",
    "    # convert decimal degrees to radians \n",
    "    lon1, lat1, lon2, lat2 = map(radians, [lon1, lat1, lon2, lat2])\n",
    "\n",
    "    # haversine formula \n",
    "    dlon = lon2 - lon1 \n",
    "    dlat = lat2 - lat1 \n",
    "    a = sin(dlat/2)**2 + cos(lat1) * cos(lat2) * sin(dlon/2)**2\n",
    "    c = 2 * asin(sqrt(a)) \n",
    "    r = 6371         # Radius of earth in kilometers. Use 3956 for miles. Determines return value units.\n",
    "    return c * r"
   ]
  },
  {
   "cell_type": "markdown",
   "metadata": {},
   "source": [
    "* Count trip distances between different cities :"
   ]
  },
  {
   "cell_type": "code",
   "execution_count": 56,
   "metadata": {},
   "outputs": [],
   "source": [
    "merged4['distance'] = merged4[['o_longitude','o_latitude','d_longitude','d_latitude']].apply(lambda x: calc_dist(*x), axis=1)"
   ]
  },
  {
   "cell_type": "code",
   "execution_count": 57,
   "metadata": {},
   "outputs": [
    {
     "data": {
      "text/html": [
       "<div>\n",
       "<style scoped>\n",
       "    .dataframe tbody tr th:only-of-type {\n",
       "        vertical-align: middle;\n",
       "    }\n",
       "\n",
       "    .dataframe tbody tr th {\n",
       "        vertical-align: top;\n",
       "    }\n",
       "\n",
       "    .dataframe thead th {\n",
       "        text-align: right;\n",
       "    }\n",
       "</style>\n",
       "<table border=\"1\" class=\"dataframe\">\n",
       "  <thead>\n",
       "    <tr style=\"text-align: right;\">\n",
       "      <th></th>\n",
       "      <th>id_x</th>\n",
       "      <th>company</th>\n",
       "      <th>o_station</th>\n",
       "      <th>d_station</th>\n",
       "      <th>departure_ts</th>\n",
       "      <th>arrival_ts</th>\n",
       "      <th>price_in_cents</th>\n",
       "      <th>search_ts</th>\n",
       "      <th>middle_stations</th>\n",
       "      <th>other_companies</th>\n",
       "      <th>...</th>\n",
       "      <th>local_name_x</th>\n",
       "      <th>unique_name_x</th>\n",
       "      <th>o_latitude</th>\n",
       "      <th>o_longitude</th>\n",
       "      <th>id</th>\n",
       "      <th>local_name_y</th>\n",
       "      <th>unique_name_y</th>\n",
       "      <th>d_latitude</th>\n",
       "      <th>d_longitude</th>\n",
       "      <th>distance</th>\n",
       "    </tr>\n",
       "  </thead>\n",
       "  <tbody>\n",
       "    <tr>\n",
       "      <th>0</th>\n",
       "      <td>6795025</td>\n",
       "      <td>8385</td>\n",
       "      <td>NaN</td>\n",
       "      <td>NaN</td>\n",
       "      <td>2017-10-13 14:00:00+00</td>\n",
       "      <td>2017-10-13 20:10:00+00</td>\n",
       "      <td>4550</td>\n",
       "      <td>2017-10-01 00:13:31.327+00</td>\n",
       "      <td>NaN</td>\n",
       "      <td>NaN</td>\n",
       "      <td>...</td>\n",
       "      <td>Orléans, Centre-Val de Loire, France</td>\n",
       "      <td>orleans</td>\n",
       "      <td>47.907018</td>\n",
       "      <td>1.90627</td>\n",
       "      <td>542</td>\n",
       "      <td>Montpellier, Occitanie, France</td>\n",
       "      <td>montpellier</td>\n",
       "      <td>43.604452</td>\n",
       "      <td>3.918318</td>\n",
       "      <td>503.197167</td>\n",
       "    </tr>\n",
       "    <tr>\n",
       "      <th>1</th>\n",
       "      <td>6795026</td>\n",
       "      <td>9</td>\n",
       "      <td>63.0</td>\n",
       "      <td>1044.0</td>\n",
       "      <td>2017-10-13 13:05:00+00</td>\n",
       "      <td>2017-10-14 06:55:00+00</td>\n",
       "      <td>1450</td>\n",
       "      <td>2017-10-01 00:13:35.773+00</td>\n",
       "      <td>{149,418}</td>\n",
       "      <td>{13}</td>\n",
       "      <td>...</td>\n",
       "      <td>Orléans, Centre-Val de Loire, France</td>\n",
       "      <td>orleans</td>\n",
       "      <td>47.907018</td>\n",
       "      <td>1.90627</td>\n",
       "      <td>542</td>\n",
       "      <td>Montpellier, Occitanie, France</td>\n",
       "      <td>montpellier</td>\n",
       "      <td>43.604452</td>\n",
       "      <td>3.918318</td>\n",
       "      <td>503.197167</td>\n",
       "    </tr>\n",
       "    <tr>\n",
       "      <th>2</th>\n",
       "      <td>6795027</td>\n",
       "      <td>8377</td>\n",
       "      <td>5905.0</td>\n",
       "      <td>6495.0</td>\n",
       "      <td>2017-10-13 13:27:00+00</td>\n",
       "      <td>2017-10-14 21:24:00+00</td>\n",
       "      <td>7400</td>\n",
       "      <td>2017-10-01 00:13:40.212+00</td>\n",
       "      <td>{798,798,6794,6246}</td>\n",
       "      <td>{8377,8376}</td>\n",
       "      <td>...</td>\n",
       "      <td>Orléans, Centre-Val de Loire, France</td>\n",
       "      <td>orleans</td>\n",
       "      <td>47.907018</td>\n",
       "      <td>1.90627</td>\n",
       "      <td>542</td>\n",
       "      <td>Montpellier, Occitanie, France</td>\n",
       "      <td>montpellier</td>\n",
       "      <td>43.604452</td>\n",
       "      <td>3.918318</td>\n",
       "      <td>503.197167</td>\n",
       "    </tr>\n",
       "    <tr>\n",
       "      <th>3</th>\n",
       "      <td>6795028</td>\n",
       "      <td>8377</td>\n",
       "      <td>5905.0</td>\n",
       "      <td>6495.0</td>\n",
       "      <td>2017-10-13 13:27:00+00</td>\n",
       "      <td>2017-10-14 11:02:00+00</td>\n",
       "      <td>13500</td>\n",
       "      <td>2017-10-01 00:13:40.213+00</td>\n",
       "      <td>{798,798,6794,6246}</td>\n",
       "      <td>{8377,8376}</td>\n",
       "      <td>...</td>\n",
       "      <td>Orléans, Centre-Val de Loire, France</td>\n",
       "      <td>orleans</td>\n",
       "      <td>47.907018</td>\n",
       "      <td>1.90627</td>\n",
       "      <td>542</td>\n",
       "      <td>Montpellier, Occitanie, France</td>\n",
       "      <td>montpellier</td>\n",
       "      <td>43.604452</td>\n",
       "      <td>3.918318</td>\n",
       "      <td>503.197167</td>\n",
       "    </tr>\n",
       "    <tr>\n",
       "      <th>4</th>\n",
       "      <td>6795029</td>\n",
       "      <td>8381</td>\n",
       "      <td>5905.0</td>\n",
       "      <td>6495.0</td>\n",
       "      <td>2017-10-13 21:46:00+00</td>\n",
       "      <td>2017-10-14 19:32:00+00</td>\n",
       "      <td>7710</td>\n",
       "      <td>2017-10-01 00:13:40.213+00</td>\n",
       "      <td>{5983,5983}</td>\n",
       "      <td>{8380}</td>\n",
       "      <td>...</td>\n",
       "      <td>Orléans, Centre-Val de Loire, France</td>\n",
       "      <td>orleans</td>\n",
       "      <td>47.907018</td>\n",
       "      <td>1.90627</td>\n",
       "      <td>542</td>\n",
       "      <td>Montpellier, Occitanie, France</td>\n",
       "      <td>montpellier</td>\n",
       "      <td>43.604452</td>\n",
       "      <td>3.918318</td>\n",
       "      <td>503.197167</td>\n",
       "    </tr>\n",
       "  </tbody>\n",
       "</table>\n",
       "<p>5 rows × 24 columns</p>\n",
       "</div>"
      ],
      "text/plain": [
       "      id_x  company  o_station  d_station            departure_ts  \\\n",
       "0  6795025     8385        NaN        NaN  2017-10-13 14:00:00+00   \n",
       "1  6795026        9       63.0     1044.0  2017-10-13 13:05:00+00   \n",
       "2  6795027     8377     5905.0     6495.0  2017-10-13 13:27:00+00   \n",
       "3  6795028     8377     5905.0     6495.0  2017-10-13 13:27:00+00   \n",
       "4  6795029     8381     5905.0     6495.0  2017-10-13 21:46:00+00   \n",
       "\n",
       "               arrival_ts  price_in_cents                   search_ts  \\\n",
       "0  2017-10-13 20:10:00+00            4550  2017-10-01 00:13:31.327+00   \n",
       "1  2017-10-14 06:55:00+00            1450  2017-10-01 00:13:35.773+00   \n",
       "2  2017-10-14 21:24:00+00            7400  2017-10-01 00:13:40.212+00   \n",
       "3  2017-10-14 11:02:00+00           13500  2017-10-01 00:13:40.213+00   \n",
       "4  2017-10-14 19:32:00+00            7710  2017-10-01 00:13:40.213+00   \n",
       "\n",
       "       middle_stations other_companies  ...  \\\n",
       "0                  NaN             NaN  ...   \n",
       "1            {149,418}            {13}  ...   \n",
       "2  {798,798,6794,6246}     {8377,8376}  ...   \n",
       "3  {798,798,6794,6246}     {8377,8376}  ...   \n",
       "4          {5983,5983}          {8380}  ...   \n",
       "\n",
       "                           local_name_x  unique_name_x  o_latitude  \\\n",
       "0  Orléans, Centre-Val de Loire, France        orleans   47.907018   \n",
       "1  Orléans, Centre-Val de Loire, France        orleans   47.907018   \n",
       "2  Orléans, Centre-Val de Loire, France        orleans   47.907018   \n",
       "3  Orléans, Centre-Val de Loire, France        orleans   47.907018   \n",
       "4  Orléans, Centre-Val de Loire, France        orleans   47.907018   \n",
       "\n",
       "   o_longitude   id                    local_name_y  unique_name_y  \\\n",
       "0      1.90627  542  Montpellier, Occitanie, France    montpellier   \n",
       "1      1.90627  542  Montpellier, Occitanie, France    montpellier   \n",
       "2      1.90627  542  Montpellier, Occitanie, France    montpellier   \n",
       "3      1.90627  542  Montpellier, Occitanie, France    montpellier   \n",
       "4      1.90627  542  Montpellier, Occitanie, France    montpellier   \n",
       "\n",
       "   d_latitude  d_longitude    distance  \n",
       "0   43.604452     3.918318  503.197167  \n",
       "1   43.604452     3.918318  503.197167  \n",
       "2   43.604452     3.918318  503.197167  \n",
       "3   43.604452     3.918318  503.197167  \n",
       "4   43.604452     3.918318  503.197167  \n",
       "\n",
       "[5 rows x 24 columns]"
      ]
     },
     "execution_count": 57,
     "metadata": {},
     "output_type": "execute_result"
    }
   ],
   "source": [
    "merged4.head()"
   ]
  },
  {
   "cell_type": "code",
   "execution_count": 58,
   "metadata": {},
   "outputs": [],
   "source": [
    "# Merge des providers et des cities dans le DataFrame trip_prices\n",
    "trip_prices = pd.merge(df3, df, how='left', left_on='o_city', right_on=['id'])\n",
    "trip_prices.rename(columns={'unique_name': 'o_name'}, inplace=True)\n",
    "trip_prices = pd.merge(trip_prices, df, how='left', left_on='d_city', right_on=['id'])\n",
    "trip_prices.rename(columns={'unique_name': 'd_name'}, inplace=True)"
   ]
  },
  {
   "cell_type": "markdown",
   "metadata": {},
   "source": [
    "* Count price statistics groupping by different cities (sum,count,maw,min) :"
   ]
  },
  {
   "cell_type": "code",
   "execution_count": 59,
   "metadata": {},
   "outputs": [
    {
     "data": {
      "text/html": [
       "<div>\n",
       "<style scoped>\n",
       "    .dataframe tbody tr th:only-of-type {\n",
       "        vertical-align: middle;\n",
       "    }\n",
       "\n",
       "    .dataframe tbody tr th {\n",
       "        vertical-align: top;\n",
       "    }\n",
       "\n",
       "    .dataframe thead tr th {\n",
       "        text-align: left;\n",
       "    }\n",
       "</style>\n",
       "<table border=\"1\" class=\"dataframe\">\n",
       "  <thead>\n",
       "    <tr>\n",
       "      <th></th>\n",
       "      <th>o_name</th>\n",
       "      <th>d_name</th>\n",
       "      <th colspan=\"4\" halign=\"left\">price</th>\n",
       "    </tr>\n",
       "    <tr>\n",
       "      <th></th>\n",
       "      <th></th>\n",
       "      <th></th>\n",
       "      <th>count</th>\n",
       "      <th>min</th>\n",
       "      <th>max</th>\n",
       "      <th>mean</th>\n",
       "    </tr>\n",
       "  </thead>\n",
       "  <tbody>\n",
       "    <tr>\n",
       "      <th>0</th>\n",
       "      <td>aeroport-paris-vatry-</td>\n",
       "      <td>troyes</td>\n",
       "      <td>1</td>\n",
       "      <td>53.0</td>\n",
       "      <td>53.0</td>\n",
       "      <td>53.000000</td>\n",
       "    </tr>\n",
       "    <tr>\n",
       "      <th>1</th>\n",
       "      <td>agde</td>\n",
       "      <td>amsterdam</td>\n",
       "      <td>5</td>\n",
       "      <td>186.0</td>\n",
       "      <td>220.0</td>\n",
       "      <td>203.200000</td>\n",
       "    </tr>\n",
       "    <tr>\n",
       "      <th>2</th>\n",
       "      <td>agen</td>\n",
       "      <td>dijon</td>\n",
       "      <td>2</td>\n",
       "      <td>98.6</td>\n",
       "      <td>136.5</td>\n",
       "      <td>117.550000</td>\n",
       "    </tr>\n",
       "    <tr>\n",
       "      <th>3</th>\n",
       "      <td>agen</td>\n",
       "      <td>marseille</td>\n",
       "      <td>30</td>\n",
       "      <td>20.0</td>\n",
       "      <td>89.2</td>\n",
       "      <td>40.426667</td>\n",
       "    </tr>\n",
       "    <tr>\n",
       "      <th>4</th>\n",
       "      <td>agen</td>\n",
       "      <td>marseille-aeroport</td>\n",
       "      <td>6</td>\n",
       "      <td>37.0</td>\n",
       "      <td>40.5</td>\n",
       "      <td>38.333333</td>\n",
       "    </tr>\n",
       "  </tbody>\n",
       "</table>\n",
       "</div>"
      ],
      "text/plain": [
       "                  o_name              d_name price                          \n",
       "                                             count    min    max        mean\n",
       "0  aeroport-paris-vatry-              troyes     1   53.0   53.0   53.000000\n",
       "1                   agde           amsterdam     5  186.0  220.0  203.200000\n",
       "2                   agen               dijon     2   98.6  136.5  117.550000\n",
       "3                   agen           marseille    30   20.0   89.2   40.426667\n",
       "4                   agen  marseille-aeroport     6   37.0   40.5   38.333333"
      ]
     },
     "execution_count": 59,
     "metadata": {},
     "output_type": "execute_result"
    }
   ],
   "source": [
    "trip_prices = trip_prices.groupby(['o_name', 'd_name']).agg({'price': ['count', 'min', 'max', 'mean']})\n",
    "\n",
    "trip_prices = pd.DataFrame(trip_prices).reset_index()\n",
    "trip_prices.shape\n",
    "trip_prices.head()\n"
   ]
  },
  {
   "cell_type": "markdown",
   "metadata": {},
   "source": [
    "* Price statistics groupping by Travel distance :"
   ]
  },
  {
   "cell_type": "code",
   "execution_count": 60,
   "metadata": {
    "scrolled": true
   },
   "outputs": [
    {
     "data": {
      "text/html": [
       "<div>\n",
       "<style scoped>\n",
       "    .dataframe tbody tr th:only-of-type {\n",
       "        vertical-align: middle;\n",
       "    }\n",
       "\n",
       "    .dataframe tbody tr th {\n",
       "        vertical-align: top;\n",
       "    }\n",
       "\n",
       "    .dataframe thead tr th {\n",
       "        text-align: left;\n",
       "    }\n",
       "\n",
       "    .dataframe thead tr:last-of-type th {\n",
       "        text-align: right;\n",
       "    }\n",
       "</style>\n",
       "<table border=\"1\" class=\"dataframe\">\n",
       "  <thead>\n",
       "    <tr>\n",
       "      <th></th>\n",
       "      <th colspan=\"3\" halign=\"left\">price</th>\n",
       "    </tr>\n",
       "    <tr>\n",
       "      <th></th>\n",
       "      <th>min</th>\n",
       "      <th>max</th>\n",
       "      <th>mean</th>\n",
       "    </tr>\n",
       "    <tr>\n",
       "      <th>dist_class</th>\n",
       "      <th></th>\n",
       "      <th></th>\n",
       "      <th></th>\n",
       "    </tr>\n",
       "  </thead>\n",
       "  <tbody>\n",
       "    <tr>\n",
       "      <th>[0, 200]</th>\n",
       "      <td>3.0</td>\n",
       "      <td>251.0</td>\n",
       "      <td>16.789723</td>\n",
       "    </tr>\n",
       "    <tr>\n",
       "      <th>[201, 800]</th>\n",
       "      <td>8.5</td>\n",
       "      <td>385.5</td>\n",
       "      <td>48.938366</td>\n",
       "    </tr>\n",
       "    <tr>\n",
       "      <th>[801, 2000]</th>\n",
       "      <td>19.4</td>\n",
       "      <td>375.5</td>\n",
       "      <td>88.578692</td>\n",
       "    </tr>\n",
       "  </tbody>\n",
       "</table>\n",
       "</div>"
      ],
      "text/plain": [
       "            price                  \n",
       "              min    max       mean\n",
       "dist_class                         \n",
       "[0, 200]      3.0  251.0  16.789723\n",
       "[201, 800]    8.5  385.5  48.938366\n",
       "[801, 2000]  19.4  375.5  88.578692"
      ]
     },
     "execution_count": 60,
     "metadata": {},
     "output_type": "execute_result"
    }
   ],
   "source": [
    "# classification 0-200km, 201-800km, 800-2000km and 2000+km\n",
    "merged4.loc[merged4.distance <= 200, 'dist_class'] = '[0, 200]'\n",
    "merged4.loc[(merged4.distance > 200) & (merged4.distance <= 800), 'dist_class'] = '[201, 800]'\n",
    "merged4.loc[(merged4.distance > 800) & (merged4.distance <= 2000), 'dist_class'] = '[801, 2000]'\n",
    "merged4.loc[merged4.distance > 2000, 'dist_class'] = '[2001 +)'\n",
    "#On peux maintenant commencer par afficher les statistiques obtenues selon ces classes de distance:\n",
    "\n",
    "stat_df = merged4.groupby(['dist_class']).agg({'price' : ['min', 'max', 'mean']})\n",
    "stat_df\n"
   ]
  },
  {
   "cell_type": "code",
   "execution_count": 70,
   "metadata": {},
   "outputs": [
    {
     "data": {
      "image/png": "[encoded data removed]",
      "text/plain": [
       "<Figure size 648x432 with 1 Axes>"
      ]
     },
     "metadata": {
      "needs_background": "light"
     },
     "output_type": "display_data"
    }
   ],
   "source": [
    "# Visualisation sur les différences de prix : traçage d'un histogramme des prix moyens, en fonction de la distance de trajet :\n",
    "\n",
    "order = ['[0, 200]', '[201, 800]', '[801, 2000]']\n",
    "g = sns.catplot(x=\"dist_class\", y=\"price\", kind=\"bar\", data=merged4, height=6, aspect=1.5, order=order)\n",
    "g.fig.suptitle('Prix moyens des moyens de transport en fonction de la distance', x=0.5, y=1.02)\n",
    "plt.xlabel('Distance (km)')\n",
    "plt.ylabel('Prix (€)');"
   ]
  },
  {
   "cell_type": "code",
   "execution_count": 78,
   "metadata": {},
   "outputs": [
    {
     "data": {
      "text/html": [
       "<div>\n",
       "<style scoped>\n",
       "    .dataframe tbody tr th:only-of-type {\n",
       "        vertical-align: middle;\n",
       "    }\n",
       "\n",
       "    .dataframe tbody tr th {\n",
       "        vertical-align: top;\n",
       "    }\n",
       "\n",
       "    .dataframe thead th {\n",
       "        text-align: right;\n",
       "    }\n",
       "</style>\n",
       "<table border=\"1\" class=\"dataframe\">\n",
       "  <thead>\n",
       "    <tr style=\"text-align: right;\">\n",
       "      <th></th>\n",
       "      <th>transport_type</th>\n",
       "      <th>id_x</th>\n",
       "      <th>company</th>\n",
       "      <th>o_station</th>\n",
       "      <th>d_station</th>\n",
       "      <th>departure_ts</th>\n",
       "      <th>arrival_ts</th>\n",
       "      <th>price_in_cents</th>\n",
       "      <th>search_ts</th>\n",
       "      <th>middle_stations</th>\n",
       "      <th>...</th>\n",
       "      <th>unique_name_x</th>\n",
       "      <th>o_latitude</th>\n",
       "      <th>o_longitude</th>\n",
       "      <th>id</th>\n",
       "      <th>local_name_y</th>\n",
       "      <th>unique_name_y</th>\n",
       "      <th>d_latitude</th>\n",
       "      <th>d_longitude</th>\n",
       "      <th>distance</th>\n",
       "      <th>dist_class</th>\n",
       "    </tr>\n",
       "  </thead>\n",
       "  <tbody>\n",
       "    <tr>\n",
       "      <th>0</th>\n",
       "      <td>bus</td>\n",
       "      <td>6795025</td>\n",
       "      <td>8385</td>\n",
       "      <td>NaN</td>\n",
       "      <td>NaN</td>\n",
       "      <td>2017-10-13 14:00:00+00</td>\n",
       "      <td>2017-10-13 20:10:00+00</td>\n",
       "      <td>4550</td>\n",
       "      <td>2017-10-01 00:13:31.327+00</td>\n",
       "      <td>NaN</td>\n",
       "      <td>...</td>\n",
       "      <td>orleans</td>\n",
       "      <td>47.907018</td>\n",
       "      <td>1.90627</td>\n",
       "      <td>542</td>\n",
       "      <td>Montpellier, Occitanie, France</td>\n",
       "      <td>montpellier</td>\n",
       "      <td>43.604452</td>\n",
       "      <td>3.918318</td>\n",
       "      <td>503.197167</td>\n",
       "      <td>[201, 800]</td>\n",
       "    </tr>\n",
       "    <tr>\n",
       "      <th>1</th>\n",
       "      <td>bus</td>\n",
       "      <td>6795026</td>\n",
       "      <td>9</td>\n",
       "      <td>63.0</td>\n",
       "      <td>1044.0</td>\n",
       "      <td>2017-10-13 13:05:00+00</td>\n",
       "      <td>2017-10-14 06:55:00+00</td>\n",
       "      <td>1450</td>\n",
       "      <td>2017-10-01 00:13:35.773+00</td>\n",
       "      <td>{149,418}</td>\n",
       "      <td>...</td>\n",
       "      <td>orleans</td>\n",
       "      <td>47.907018</td>\n",
       "      <td>1.90627</td>\n",
       "      <td>542</td>\n",
       "      <td>Montpellier, Occitanie, France</td>\n",
       "      <td>montpellier</td>\n",
       "      <td>43.604452</td>\n",
       "      <td>3.918318</td>\n",
       "      <td>503.197167</td>\n",
       "      <td>[201, 800]</td>\n",
       "    </tr>\n",
       "    <tr>\n",
       "      <th>2</th>\n",
       "      <td>bus</td>\n",
       "      <td>6795027</td>\n",
       "      <td>8377</td>\n",
       "      <td>5905.0</td>\n",
       "      <td>6495.0</td>\n",
       "      <td>2017-10-13 13:27:00+00</td>\n",
       "      <td>2017-10-14 21:24:00+00</td>\n",
       "      <td>7400</td>\n",
       "      <td>2017-10-01 00:13:40.212+00</td>\n",
       "      <td>{798,798,6794,6246}</td>\n",
       "      <td>...</td>\n",
       "      <td>orleans</td>\n",
       "      <td>47.907018</td>\n",
       "      <td>1.90627</td>\n",
       "      <td>542</td>\n",
       "      <td>Montpellier, Occitanie, France</td>\n",
       "      <td>montpellier</td>\n",
       "      <td>43.604452</td>\n",
       "      <td>3.918318</td>\n",
       "      <td>503.197167</td>\n",
       "      <td>[201, 800]</td>\n",
       "    </tr>\n",
       "    <tr>\n",
       "      <th>3</th>\n",
       "      <td>bus</td>\n",
       "      <td>6795028</td>\n",
       "      <td>8377</td>\n",
       "      <td>5905.0</td>\n",
       "      <td>6495.0</td>\n",
       "      <td>2017-10-13 13:27:00+00</td>\n",
       "      <td>2017-10-14 11:02:00+00</td>\n",
       "      <td>13500</td>\n",
       "      <td>2017-10-01 00:13:40.213+00</td>\n",
       "      <td>{798,798,6794,6246}</td>\n",
       "      <td>...</td>\n",
       "      <td>orleans</td>\n",
       "      <td>47.907018</td>\n",
       "      <td>1.90627</td>\n",
       "      <td>542</td>\n",
       "      <td>Montpellier, Occitanie, France</td>\n",
       "      <td>montpellier</td>\n",
       "      <td>43.604452</td>\n",
       "      <td>3.918318</td>\n",
       "      <td>503.197167</td>\n",
       "      <td>[201, 800]</td>\n",
       "    </tr>\n",
       "    <tr>\n",
       "      <th>4</th>\n",
       "      <td>bus</td>\n",
       "      <td>6795029</td>\n",
       "      <td>8381</td>\n",
       "      <td>5905.0</td>\n",
       "      <td>6495.0</td>\n",
       "      <td>2017-10-13 21:46:00+00</td>\n",
       "      <td>2017-10-14 19:32:00+00</td>\n",
       "      <td>7710</td>\n",
       "      <td>2017-10-01 00:13:40.213+00</td>\n",
       "      <td>{5983,5983}</td>\n",
       "      <td>...</td>\n",
       "      <td>orleans</td>\n",
       "      <td>47.907018</td>\n",
       "      <td>1.90627</td>\n",
       "      <td>542</td>\n",
       "      <td>Montpellier, Occitanie, France</td>\n",
       "      <td>montpellier</td>\n",
       "      <td>43.604452</td>\n",
       "      <td>3.918318</td>\n",
       "      <td>503.197167</td>\n",
       "      <td>[201, 800]</td>\n",
       "    </tr>\n",
       "  </tbody>\n",
       "</table>\n",
       "<p>5 rows × 26 columns</p>\n",
       "</div>"
      ],
      "text/plain": [
       "  transport_type     id_x  company  o_station  d_station  \\\n",
       "0            bus  6795025     8385        NaN        NaN   \n",
       "1            bus  6795026        9       63.0     1044.0   \n",
       "2            bus  6795027     8377     5905.0     6495.0   \n",
       "3            bus  6795028     8377     5905.0     6495.0   \n",
       "4            bus  6795029     8381     5905.0     6495.0   \n",
       "\n",
       "             departure_ts              arrival_ts  price_in_cents  \\\n",
       "0  2017-10-13 14:00:00+00  2017-10-13 20:10:00+00            4550   \n",
       "1  2017-10-13 13:05:00+00  2017-10-14 06:55:00+00            1450   \n",
       "2  2017-10-13 13:27:00+00  2017-10-14 21:24:00+00            7400   \n",
       "3  2017-10-13 13:27:00+00  2017-10-14 11:02:00+00           13500   \n",
       "4  2017-10-13 21:46:00+00  2017-10-14 19:32:00+00            7710   \n",
       "\n",
       "                    search_ts      middle_stations  ... unique_name_x  \\\n",
       "0  2017-10-01 00:13:31.327+00                  NaN  ...       orleans   \n",
       "1  2017-10-01 00:13:35.773+00            {149,418}  ...       orleans   \n",
       "2  2017-10-01 00:13:40.212+00  {798,798,6794,6246}  ...       orleans   \n",
       "3  2017-10-01 00:13:40.213+00  {798,798,6794,6246}  ...       orleans   \n",
       "4  2017-10-01 00:13:40.213+00          {5983,5983}  ...       orleans   \n",
       "\n",
       "   o_latitude  o_longitude   id                    local_name_y unique_name_y  \\\n",
       "0   47.907018      1.90627  542  Montpellier, Occitanie, France   montpellier   \n",
       "1   47.907018      1.90627  542  Montpellier, Occitanie, France   montpellier   \n",
       "2   47.907018      1.90627  542  Montpellier, Occitanie, France   montpellier   \n",
       "3   47.907018      1.90627  542  Montpellier, Occitanie, France   montpellier   \n",
       "4   47.907018      1.90627  542  Montpellier, Occitanie, France   montpellier   \n",
       "\n",
       "  d_latitude  d_longitude    distance  dist_class  \n",
       "0  43.604452     3.918318  503.197167  [201, 800]  \n",
       "1  43.604452     3.918318  503.197167  [201, 800]  \n",
       "2  43.604452     3.918318  503.197167  [201, 800]  \n",
       "3  43.604452     3.918318  503.197167  [201, 800]  \n",
       "4  43.604452     3.918318  503.197167  [201, 800]  \n",
       "\n",
       "[5 rows x 26 columns]"
      ]
     },
     "execution_count": 78,
     "metadata": {},
     "output_type": "execute_result"
    }
   ],
   "source": [
    "df = pd.merge(df1.transport_type, merged4, left_index=True, right_index=True)\n",
    "df.head()"
   ]
  },
  {
   "cell_type": "code",
   "execution_count": 79,
   "metadata": {},
   "outputs": [
    {
     "data": {
      "text/html": [
       "<div>\n",
       "<style scoped>\n",
       "    .dataframe tbody tr th:only-of-type {\n",
       "        vertical-align: middle;\n",
       "    }\n",
       "\n",
       "    .dataframe tbody tr th {\n",
       "        vertical-align: top;\n",
       "    }\n",
       "\n",
       "    .dataframe thead tr th {\n",
       "        text-align: left;\n",
       "    }\n",
       "\n",
       "    .dataframe thead tr:last-of-type th {\n",
       "        text-align: right;\n",
       "    }\n",
       "</style>\n",
       "<table border=\"1\" class=\"dataframe\">\n",
       "  <thead>\n",
       "    <tr>\n",
       "      <th></th>\n",
       "      <th></th>\n",
       "      <th colspan=\"3\" halign=\"left\">price</th>\n",
       "    </tr>\n",
       "    <tr>\n",
       "      <th></th>\n",
       "      <th></th>\n",
       "      <th>min</th>\n",
       "      <th>max</th>\n",
       "      <th>mean</th>\n",
       "    </tr>\n",
       "    <tr>\n",
       "      <th>dist_class</th>\n",
       "      <th>transport_type</th>\n",
       "      <th></th>\n",
       "      <th></th>\n",
       "      <th></th>\n",
       "    </tr>\n",
       "  </thead>\n",
       "  <tbody>\n",
       "    <tr>\n",
       "      <th>[0, 200]</th>\n",
       "      <th>bus</th>\n",
       "      <td>6.0</td>\n",
       "      <td>34.9</td>\n",
       "      <td>15.013333</td>\n",
       "    </tr>\n",
       "    <tr>\n",
       "      <th rowspan=\"4\" valign=\"top\">[201, 800]</th>\n",
       "      <th>bus</th>\n",
       "      <td>11.0</td>\n",
       "      <td>135.0</td>\n",
       "      <td>24.426630</td>\n",
       "    </tr>\n",
       "    <tr>\n",
       "      <th>car</th>\n",
       "      <td>18.0</td>\n",
       "      <td>18.0</td>\n",
       "      <td>18.000000</td>\n",
       "    </tr>\n",
       "    <tr>\n",
       "      <th>carpooling</th>\n",
       "      <td>26.5</td>\n",
       "      <td>26.5</td>\n",
       "      <td>26.500000</td>\n",
       "    </tr>\n",
       "    <tr>\n",
       "      <th>train</th>\n",
       "      <td>21.5</td>\n",
       "      <td>26.5</td>\n",
       "      <td>23.900000</td>\n",
       "    </tr>\n",
       "  </tbody>\n",
       "</table>\n",
       "</div>"
      ],
      "text/plain": [
       "                          price                  \n",
       "                            min    max       mean\n",
       "dist_class transport_type                        \n",
       "[0, 200]   bus              6.0   34.9  15.013333\n",
       "[201, 800] bus             11.0  135.0  24.426630\n",
       "           car             18.0   18.0  18.000000\n",
       "           carpooling      26.5   26.5  26.500000\n",
       "           train           21.5   26.5  23.900000"
      ]
     },
     "execution_count": 79,
     "metadata": {},
     "output_type": "execute_result"
    }
   ],
   "source": [
    "df.loc[df.distance <= 200, 'dist_class'] = '[0, 200]'\n",
    "df.loc[(df.distance > 200) & (df.distance <= 800), 'dist_class'] = '[201, 800]'\n",
    "df.loc[(df.distance > 800) & (df.distance <= 2000), 'dist_class'] = '[801, 2000]'\n",
    "df.loc[df.distance > 2000, 'dist_class'] = '[2001 +)'\n",
    "#On peux maintenant commencer par afficher les statistiques obtenues selon ces classes de distance, en fonction des moyens de transport :\n",
    "\n",
    "stat_df1 = df.groupby(['dist_class','transport_type']).agg({'price' : ['min', 'max', 'mean']})\n",
    "stat_df1"
   ]
  },
  {
   "cell_type": "code",
   "execution_count": 84,
   "metadata": {},
   "outputs": [
    {
     "data": {
      "image/png": "[encoded data removed]",
      "text/plain": [
       "<Figure size 736.5x432 with 1 Axes>"
      ]
     },
     "metadata": {
      "needs_background": "light"
     },
     "output_type": "display_data"
    }
   ],
   "source": [
    "# Visualisation sur les différences de prix :traçage d'un histogramme des prix moyens, en fonction de la distance de trajet et du type de transport :\n",
    "\n",
    "order = ['[0, 200]', '[201, 800]', '[801, 2000]']\n",
    "g = sns.catplot(x=\"dist_class\", y=\"price\", hue=\"transport_type\", kind=\"bar\", data=df, height=6, aspect=1.5, order=order)\n",
    "g.fig.suptitle('Prix moyens des moyens de transport en fonction de la distance', x=0.5, y=1.02)\n",
    "plt.xlabel('Distance (km)')\n",
    "plt.ylabel('Prix (€)');"
   ]
  },
  {
   "cell_type": "code",
   "execution_count": null,
   "metadata": {},
   "outputs": [],
   "source": []
  },
  {
   "cell_type": "markdown",
   "metadata": {},
   "source": [
    "# Prediction model :"
   ]
  },
  {
   "cell_type": "code",
   "execution_count": 93,
   "metadata": {},
   "outputs": [
    {
     "name": "stdout",
     "output_type": "stream",
     "text": [
      "<class 'pandas.core.frame.DataFrame'>\n",
      "Int64Index: 227 entries, 0 to 226\n",
      "Data columns (total 26 columns):\n",
      " #   Column           Non-Null Count  Dtype  \n",
      "---  ------           --------------  -----  \n",
      " 0   transport_type   227 non-null    object \n",
      " 1   id_x             227 non-null    int64  \n",
      " 2   company          227 non-null    int64  \n",
      " 3   o_station        52 non-null     float64\n",
      " 4   d_station        52 non-null     float64\n",
      " 5   departure_ts     227 non-null    object \n",
      " 6   arrival_ts       227 non-null    object \n",
      " 7   price_in_cents   227 non-null    int64  \n",
      " 8   search_ts        227 non-null    object \n",
      " 9   middle_stations  52 non-null     object \n",
      " 10  other_companies  52 non-null     object \n",
      " 11  o_city           227 non-null    int64  \n",
      " 12  d_city           227 non-null    int64  \n",
      " 13  price            227 non-null    float64\n",
      " 14  id_y             227 non-null    int64  \n",
      " 15  local_name_x     227 non-null    object \n",
      " 16  unique_name_x    227 non-null    object \n",
      " 17  o_latitude       227 non-null    float64\n",
      " 18  o_longitude      227 non-null    float64\n",
      " 19  id               227 non-null    int64  \n",
      " 20  local_name_y     227 non-null    object \n",
      " 21  unique_name_y    227 non-null    object \n",
      " 22  d_latitude       227 non-null    float64\n",
      " 23  d_longitude      227 non-null    float64\n",
      " 24  distance         227 non-null    float64\n",
      " 25  dist_class       227 non-null    object \n",
      "dtypes: float64(8), int64(7), object(11)\n",
      "memory usage: 57.9+ KB\n"
     ]
    }
   ],
   "source": [
    "df.info()"
   ]
  },
  {
   "cell_type": "code",
   "execution_count": 94,
   "metadata": {},
   "outputs": [],
   "source": [
    "# Calcul du nombre de middle stations\n",
    "def n_middle_stations(row):\n",
    "    m_st = str(row.middle_stations)\n",
    "    if m_st == 'nan':\n",
    "        return 0\n",
    "    else:\n",
    "        return len(m_st.split(','))\n",
    "    \n",
    "df['n_middle_stations'] = df.apply(n_middle_stations, axis=1)"
   ]
  },
  {
   "cell_type": "code",
   "execution_count": 95,
   "metadata": {},
   "outputs": [],
   "source": [
    "# Nombre des compagnies proposant un trajet similaire\n",
    "def n_other_companies(row):\n",
    "    other_comp = str(row.other_companies)\n",
    "    if other_comp == 'nan':\n",
    "        return 0\n",
    "    else:\n",
    "        return len(other_comp.split(','))\n",
    "    \n",
    "df['n_other_companies'] = df.apply(n_other_companies, axis=1)"
   ]
  },
  {
   "cell_type": "code",
   "execution_count": 125,
   "metadata": {},
   "outputs": [],
   "source": [
    "def timedelta_hours_(row, col):\n",
    "    days = row[col].days\n",
    "    seconds = row[col].seconds\n",
    "    hours = days * 24 + seconds / 3600\n",
    "    return hours"
   ]
  },
  {
   "cell_type": "code",
   "execution_count": 126,
   "metadata": {},
   "outputs": [],
   "source": [
    "df['departure'] = pd.to_datetime(df['departure_ts'])\n",
    "df['search'] = pd.to_datetime(df['search_ts'])\n",
    "def duree_pre_trajet(depart,search):\n",
    "    return (depart - search)\n",
    "\n",
    "df['duree_pre_trajet'] = df[['departure','search']].apply(lambda x: duree_pre_trajet(*x), axis=1)\n",
    "df['duree_pre_trajet_hours'] = df.apply(timedelta_hours_, args=['duree_pre_trajet'], axis=1)"
   ]
  },
  {
   "cell_type": "code",
   "execution_count": 128,
   "metadata": {},
   "outputs": [],
   "source": [
    "#identification des features et des labels\n",
    "features = ['distance', 'duree_pre_trajet_hours', 'transport_type', 'n_middle_stations','company', 'n_other_companies']\n",
    "X = df[features]\n",
    "y = df.price.values"
   ]
  },
  {
   "cell_type": "code",
   "execution_count": 129,
   "metadata": {},
   "outputs": [
    {
     "data": {
      "text/html": [
       "<div>\n",
       "<style scoped>\n",
       "    .dataframe tbody tr th:only-of-type {\n",
       "        vertical-align: middle;\n",
       "    }\n",
       "\n",
       "    .dataframe tbody tr th {\n",
       "        vertical-align: top;\n",
       "    }\n",
       "\n",
       "    .dataframe thead th {\n",
       "        text-align: right;\n",
       "    }\n",
       "</style>\n",
       "<table border=\"1\" class=\"dataframe\">\n",
       "  <thead>\n",
       "    <tr style=\"text-align: right;\">\n",
       "      <th></th>\n",
       "      <th>distance</th>\n",
       "      <th>duree_pre_trajet_hours</th>\n",
       "      <th>transport_type</th>\n",
       "      <th>n_middle_stations</th>\n",
       "      <th>company</th>\n",
       "      <th>n_other_companies</th>\n",
       "    </tr>\n",
       "  </thead>\n",
       "  <tbody>\n",
       "    <tr>\n",
       "      <th>0</th>\n",
       "      <td>503.197167</td>\n",
       "      <td>301.774444</td>\n",
       "      <td>bus</td>\n",
       "      <td>0</td>\n",
       "      <td>8385</td>\n",
       "      <td>0</td>\n",
       "    </tr>\n",
       "    <tr>\n",
       "      <th>1</th>\n",
       "      <td>503.197167</td>\n",
       "      <td>300.856667</td>\n",
       "      <td>bus</td>\n",
       "      <td>2</td>\n",
       "      <td>9</td>\n",
       "      <td>1</td>\n",
       "    </tr>\n",
       "    <tr>\n",
       "      <th>2</th>\n",
       "      <td>503.197167</td>\n",
       "      <td>301.221944</td>\n",
       "      <td>bus</td>\n",
       "      <td>4</td>\n",
       "      <td>8377</td>\n",
       "      <td>2</td>\n",
       "    </tr>\n",
       "    <tr>\n",
       "      <th>3</th>\n",
       "      <td>503.197167</td>\n",
       "      <td>301.221944</td>\n",
       "      <td>bus</td>\n",
       "      <td>4</td>\n",
       "      <td>8377</td>\n",
       "      <td>2</td>\n",
       "    </tr>\n",
       "    <tr>\n",
       "      <th>4</th>\n",
       "      <td>503.197167</td>\n",
       "      <td>309.538611</td>\n",
       "      <td>bus</td>\n",
       "      <td>2</td>\n",
       "      <td>8381</td>\n",
       "      <td>1</td>\n",
       "    </tr>\n",
       "    <tr>\n",
       "      <th>...</th>\n",
       "      <td>...</td>\n",
       "      <td>...</td>\n",
       "      <td>...</td>\n",
       "      <td>...</td>\n",
       "      <td>...</td>\n",
       "      <td>...</td>\n",
       "    </tr>\n",
       "    <tr>\n",
       "      <th>222</th>\n",
       "      <td>308.159424</td>\n",
       "      <td>-391.329167</td>\n",
       "      <td>train</td>\n",
       "      <td>0</td>\n",
       "      <td>8385</td>\n",
       "      <td>0</td>\n",
       "    </tr>\n",
       "    <tr>\n",
       "      <th>223</th>\n",
       "      <td>308.159424</td>\n",
       "      <td>-384.329167</td>\n",
       "      <td>carpooling</td>\n",
       "      <td>0</td>\n",
       "      <td>8385</td>\n",
       "      <td>0</td>\n",
       "    </tr>\n",
       "    <tr>\n",
       "      <th>224</th>\n",
       "      <td>308.159424</td>\n",
       "      <td>-384.329167</td>\n",
       "      <td>bus</td>\n",
       "      <td>0</td>\n",
       "      <td>8385</td>\n",
       "      <td>0</td>\n",
       "    </tr>\n",
       "    <tr>\n",
       "      <th>225</th>\n",
       "      <td>308.159424</td>\n",
       "      <td>-383.662222</td>\n",
       "      <td>bus</td>\n",
       "      <td>0</td>\n",
       "      <td>8385</td>\n",
       "      <td>0</td>\n",
       "    </tr>\n",
       "    <tr>\n",
       "      <th>226</th>\n",
       "      <td>308.159424</td>\n",
       "      <td>-383.329167</td>\n",
       "      <td>carpooling</td>\n",
       "      <td>0</td>\n",
       "      <td>8385</td>\n",
       "      <td>0</td>\n",
       "    </tr>\n",
       "  </tbody>\n",
       "</table>\n",
       "<p>227 rows × 6 columns</p>\n",
       "</div>"
      ],
      "text/plain": [
       "       distance  duree_pre_trajet_hours transport_type  n_middle_stations  \\\n",
       "0    503.197167              301.774444            bus                  0   \n",
       "1    503.197167              300.856667            bus                  2   \n",
       "2    503.197167              301.221944            bus                  4   \n",
       "3    503.197167              301.221944            bus                  4   \n",
       "4    503.197167              309.538611            bus                  2   \n",
       "..          ...                     ...            ...                ...   \n",
       "222  308.159424             -391.329167          train                  0   \n",
       "223  308.159424             -384.329167     carpooling                  0   \n",
       "224  308.159424             -384.329167            bus                  0   \n",
       "225  308.159424             -383.662222            bus                  0   \n",
       "226  308.159424             -383.329167     carpooling                  0   \n",
       "\n",
       "     company  n_other_companies  \n",
       "0       8385                  0  \n",
       "1          9                  1  \n",
       "2       8377                  2  \n",
       "3       8377                  2  \n",
       "4       8381                  1  \n",
       "..       ...                ...  \n",
       "222     8385                  0  \n",
       "223     8385                  0  \n",
       "224     8385                  0  \n",
       "225     8385                  0  \n",
       "226     8385                  0  \n",
       "\n",
       "[227 rows x 6 columns]"
      ]
     },
     "execution_count": 129,
     "metadata": {},
     "output_type": "execute_result"
    }
   ],
   "source": [
    "X"
   ]
  },
  {
   "cell_type": "markdown",
   "metadata": {},
   "source": [
    "**Inspect Categorial Features**\n",
    "* Start by inspecting the categorical features to look for any anomalies."
   ]
  },
  {
   "cell_type": "code",
   "execution_count": 130,
   "metadata": {},
   "outputs": [
    {
     "data": {
      "text/html": [
       "<div>\n",
       "<style scoped>\n",
       "    .dataframe tbody tr th:only-of-type {\n",
       "        vertical-align: middle;\n",
       "    }\n",
       "\n",
       "    .dataframe tbody tr th {\n",
       "        vertical-align: top;\n",
       "    }\n",
       "\n",
       "    .dataframe thead th {\n",
       "        text-align: right;\n",
       "    }\n",
       "</style>\n",
       "<table border=\"1\" class=\"dataframe\">\n",
       "  <thead>\n",
       "    <tr style=\"text-align: right;\">\n",
       "      <th></th>\n",
       "      <th>distance</th>\n",
       "      <th>duree_pre_trajet_hours</th>\n",
       "      <th>n_middle_stations</th>\n",
       "      <th>company</th>\n",
       "      <th>n_other_companies</th>\n",
       "    </tr>\n",
       "  </thead>\n",
       "  <tbody>\n",
       "    <tr>\n",
       "      <th>count</th>\n",
       "      <td>227.000000</td>\n",
       "      <td>227.000000</td>\n",
       "      <td>227.000000</td>\n",
       "      <td>227.000000</td>\n",
       "      <td>227.000000</td>\n",
       "    </tr>\n",
       "    <tr>\n",
       "      <th>mean</th>\n",
       "      <td>230.985118</td>\n",
       "      <td>61.693419</td>\n",
       "      <td>0.475771</td>\n",
       "      <td>7314.370044</td>\n",
       "      <td>0.237885</td>\n",
       "    </tr>\n",
       "    <tr>\n",
       "      <th>std</th>\n",
       "      <td>57.355960</td>\n",
       "      <td>100.528166</td>\n",
       "      <td>0.893974</td>\n",
       "      <td>2801.096836</td>\n",
       "      <td>0.446987</td>\n",
       "    </tr>\n",
       "    <tr>\n",
       "      <th>min</th>\n",
       "      <td>18.913242</td>\n",
       "      <td>-391.329167</td>\n",
       "      <td>0.000000</td>\n",
       "      <td>9.000000</td>\n",
       "      <td>0.000000</td>\n",
       "    </tr>\n",
       "    <tr>\n",
       "      <th>25%</th>\n",
       "      <td>205.842591</td>\n",
       "      <td>11.110694</td>\n",
       "      <td>0.000000</td>\n",
       "      <td>8385.000000</td>\n",
       "      <td>0.000000</td>\n",
       "    </tr>\n",
       "    <tr>\n",
       "      <th>50%</th>\n",
       "      <td>232.966968</td>\n",
       "      <td>25.324167</td>\n",
       "      <td>0.000000</td>\n",
       "      <td>8385.000000</td>\n",
       "      <td>0.000000</td>\n",
       "    </tr>\n",
       "    <tr>\n",
       "      <th>75%</th>\n",
       "      <td>261.121575</td>\n",
       "      <td>132.911528</td>\n",
       "      <td>0.000000</td>\n",
       "      <td>8385.000000</td>\n",
       "      <td>0.000000</td>\n",
       "    </tr>\n",
       "    <tr>\n",
       "      <th>max</th>\n",
       "      <td>503.197167</td>\n",
       "      <td>309.538611</td>\n",
       "      <td>4.000000</td>\n",
       "      <td>8385.000000</td>\n",
       "      <td>2.000000</td>\n",
       "    </tr>\n",
       "  </tbody>\n",
       "</table>\n",
       "</div>"
      ],
      "text/plain": [
       "         distance  duree_pre_trajet_hours  n_middle_stations      company  \\\n",
       "count  227.000000              227.000000         227.000000   227.000000   \n",
       "mean   230.985118               61.693419           0.475771  7314.370044   \n",
       "std     57.355960              100.528166           0.893974  2801.096836   \n",
       "min     18.913242             -391.329167           0.000000     9.000000   \n",
       "25%    205.842591               11.110694           0.000000  8385.000000   \n",
       "50%    232.966968               25.324167           0.000000  8385.000000   \n",
       "75%    261.121575              132.911528           0.000000  8385.000000   \n",
       "max    503.197167              309.538611           4.000000  8385.000000   \n",
       "\n",
       "       n_other_companies  \n",
       "count         227.000000  \n",
       "mean            0.237885  \n",
       "std             0.446987  \n",
       "min             0.000000  \n",
       "25%             0.000000  \n",
       "50%             0.000000  \n",
       "75%             0.000000  \n",
       "max             2.000000  "
      ]
     },
     "execution_count": 130,
     "metadata": {},
     "output_type": "execute_result"
    }
   ],
   "source": [
    "# Describe the categorical features (object type)\n",
    "X.describe()"
   ]
  },
  {
   "cell_type": "markdown",
   "metadata": {},
   "source": [
    "#### One hot encoder "
   ]
  },
  {
   "cell_type": "code",
   "execution_count": 131,
   "metadata": {},
   "outputs": [
    {
     "data": {
      "text/plain": [
       "(227, 15)"
      ]
     },
     "execution_count": 131,
     "metadata": {},
     "output_type": "execute_result"
    }
   ],
   "source": [
    "# Encode categorical features as a one-hot numeric array\n",
    "from sklearn.preprocessing import OneHotEncoder\n",
    "\n",
    "categorical_X = ['company', 'transport_type']\n",
    "numerical_X = ['distance', 'duree_pre_trajet_hours', 'n_middle_stations']\n",
    "\n",
    "enc = OneHotEncoder()\n",
    "enc.fit(X[categorical_X])\n",
    "onehotlabels = enc.transform(X[categorical_X]).toarray()\n",
    "\n",
    "#Stack arrays(onehotlabels and numerical features) in sequence horizontally (column wise)\n",
    "X = np.hstack((onehotlabels, X[numerical_X].values)) \n",
    "X.shape"
   ]
  },
  {
   "cell_type": "code",
   "execution_count": 132,
   "metadata": {},
   "outputs": [],
   "source": [
    "from sklearn.model_selection import train_test_split\n",
    "X_train, X_test, y_train, y_test = train_test_split(X, y, random_state=42)"
   ]
  },
  {
   "cell_type": "markdown",
   "metadata": {},
   "source": [
    "**Random Forest Regressor Model :**"
   ]
  },
  {
   "cell_type": "code",
   "execution_count": 138,
   "metadata": {},
   "outputs": [
    {
     "name": "stderr",
     "output_type": "stream",
     "text": [
      "[Parallel(n_jobs=-1)]: Using backend ThreadingBackend with 12 concurrent workers.\n",
      "[Parallel(n_jobs=-1)]: Done  26 tasks      | elapsed:    0.0s\n",
      "[Parallel(n_jobs=-1)]: Done 176 tasks      | elapsed:    0.0s\n",
      "[Parallel(n_jobs=-1)]: Done 426 tasks      | elapsed:    0.2s\n",
      "[Parallel(n_jobs=-1)]: Done 776 tasks      | elapsed:    0.4s\n",
      "[Parallel(n_jobs=-1)]: Done 1000 out of 1000 | elapsed:    0.6s finished\n"
     ]
    },
    {
     "data": {
      "text/plain": [
       "RandomForestRegressor(n_estimators=1000, n_jobs=-1, verbose=1)"
      ]
     },
     "execution_count": 138,
     "metadata": {},
     "output_type": "execute_result"
    }
   ],
   "source": [
    "from sklearn.ensemble import RandomForestRegressor\n",
    "\n",
    "# Instantiation\n",
    "rf_clf = RandomForestRegressor(n_estimators=1000, criterion='mse', max_depth=None, min_samples_split=2, min_samples_leaf=1, min_weight_fraction_leaf=0.0, \n",
    "max_features='auto', max_leaf_nodes=None, min_impurity_decrease=0.0, min_impurity_split=None, bootstrap=True, oob_score=False, \n",
    "n_jobs=-1, random_state=None, verbose=1, warm_start=False, ccp_alpha=0.0, max_samples=None)\n",
    "\n",
    "# Fitting the model\n",
    "rf_clf.fit(X_train, y_train)"
   ]
  },
  {
   "cell_type": "code",
   "execution_count": 139,
   "metadata": {},
   "outputs": [
    {
     "name": "stderr",
     "output_type": "stream",
     "text": [
      "[Parallel(n_jobs=12)]: Using backend ThreadingBackend with 12 concurrent workers.\n",
      "[Parallel(n_jobs=12)]: Done  26 tasks      | elapsed:    0.0s\n",
      "[Parallel(n_jobs=12)]: Done 176 tasks      | elapsed:    0.0s\n",
      "[Parallel(n_jobs=12)]: Done 426 tasks      | elapsed:    0.0s\n",
      "[Parallel(n_jobs=12)]: Done 776 tasks      | elapsed:    0.0s\n",
      "[Parallel(n_jobs=12)]: Done 1000 out of 1000 | elapsed:    0.0s finished\n"
     ]
    }
   ],
   "source": [
    "# Predict the model\n",
    "pred = rf_clf.predict(X_test)"
   ]
  },
  {
   "cell_type": "code",
   "execution_count": 140,
   "metadata": {},
   "outputs": [
    {
     "name": "stdout",
     "output_type": "stream",
     "text": [
      "Prediction: 17\n"
     ]
    }
   ],
   "source": [
    "print('Prediction: %d' % pred[0])"
   ]
  },
  {
   "cell_type": "code",
   "execution_count": 146,
   "metadata": {},
   "outputs": [
    {
     "name": "stdout",
     "output_type": "stream",
     "text": [
      "MAE: :  3.654239\n",
      "RMSE :  64.811308\n"
     ]
    }
   ],
   "source": [
    "from sklearn.metrics import mean_squared_error, mean_absolute_error\n",
    "\n",
    "mae = mean_absolute_error(y_test, pred)\n",
    "print('MAE: : % f' %(mae))\n",
    "rmse = mean_squared_error(y_test, pred)\n",
    "print('RMSE : % f' %(rmse)) "
   ]
  },
  {
   "cell_type": "markdown",
   "metadata": {},
   "source": [
    "* We notice here that MAE is around 4€ and RMSE around 65€ (poor ability of the model to accurately predict the data).\n"
   ]
  },
  {
   "cell_type": "markdown",
   "metadata": {},
   "source": [
    "**Xgboost Model :**"
   ]
  },
  {
   "cell_type": "code",
   "execution_count": 152,
   "metadata": {},
   "outputs": [
    {
     "name": "stdout",
     "output_type": "stream",
     "text": [
      "RMSE :  7.909831\n",
      "R² :  0.538204\n"
     ]
    }
   ],
   "source": [
    "import xgboost as xg\n",
    "from sklearn.metrics import mean_squared_error as MSE, r2_score\n",
    "\n",
    "# Instantiation\n",
    "xgb_r = xg.XGBRegressor(n_estimators = 10, seed = 123)\n",
    "  \n",
    "# Fitting the model\n",
    "xgb_r.fit(X_train, y_train)\n",
    "  \n",
    "# Predict the model\n",
    "pred = xgb_r.predict(X_test)\n",
    "  \n",
    "# RMSE Computation\n",
    "rmse = np.sqrt(MSE(y_test, pred))\n",
    "print(\"RMSE : % f\" %(rmse))\n",
    "\n",
    "r2_score = r2_score(y_test, pred)\n",
    "print(\"R² : % f\" %(r2_score))"
   ]
  },
  {
   "cell_type": "markdown",
   "metadata": {},
   "source": [
    "* Let's try to improve the results by using GridSearchCV and determine the best hyper-parameters."
   ]
  },
  {
   "cell_type": "code",
   "execution_count": 153,
   "metadata": {},
   "outputs": [],
   "source": [
    "from sklearn.model_selection import GridSearchCV\n",
    "\n",
    "# Create the parameter grid based on the results of random search \n",
    "param_grid = {\n",
    "    'bootstrap': [True],\n",
    "    'max_depth': [80, 90, 100, 110],\n",
    "    'max_features': [2, 3],\n",
    "    'min_samples_leaf': [3, 4, 5],\n",
    "    'min_samples_split': [8, 10, 12],\n",
    "    'n_estimators': [100, 200, 300, 1000]\n",
    "}\n",
    "\n",
    "# Instantiate the grid search model\n",
    "grid_search = GridSearchCV(estimator = rf_clf, param_grid = param_grid, \n",
    "                          cv = 3, n_jobs = -1, verbose = 2)"
   ]
  },
  {
   "cell_type": "code",
   "execution_count": 159,
   "metadata": {},
   "outputs": [],
   "source": [
    "def evaluate(model, test_features, test_labels):\n",
    "    predictions = model.predict(test_features)\n",
    "    errors = abs(predictions - test_labels)\n",
    "    mape = 100 * np.mean(errors / test_labels)\n",
    "    accuracy = 100 - mape\n",
    "    print('Model Performance')\n",
    "    print('Average Error: {:0.4f} degrees.'.format(np.mean(errors)))\n",
    "    print('Accuracy = {:0.2f}%.'.format(accuracy))\n",
    "    \n",
    "    return accuracy"
   ]
  },
  {
   "cell_type": "code",
   "execution_count": 161,
   "metadata": {},
   "outputs": [
    {
     "name": "stdout",
     "output_type": "stream",
     "text": [
      "Fitting 3 folds for each of 288 candidates, totalling 864 fits\n"
     ]
    },
    {
     "name": "stderr",
     "output_type": "stream",
     "text": [
      "[Parallel(n_jobs=-1)]: Using backend LokyBackend with 12 concurrent workers.\n",
      "[Parallel(n_jobs=-1)]: Done  17 tasks      | elapsed:    0.9s\n",
      "[Parallel(n_jobs=-1)]: Done 186 tasks      | elapsed:   13.3s\n",
      "[Parallel(n_jobs=-1)]: Done 389 tasks      | elapsed:   27.9s\n",
      "[Parallel(n_jobs=-1)]: Done 672 tasks      | elapsed:   51.3s\n"
     ]
    },
    {
     "name": "stdout",
     "output_type": "stream",
     "text": [
      "Model Performance\n",
      "Average Error: 4.1588 degrees.\n",
      "Accuracy = 82.71%.\n"
     ]
    },
    {
     "name": "stderr",
     "output_type": "stream",
     "text": [
      "[Parallel(n_jobs=-1)]: Done 864 out of 864 | elapsed:  1.1min finished\n",
      "[Parallel(n_jobs=-1)]: Using backend ThreadingBackend with 12 concurrent workers.\n",
      "[Parallel(n_jobs=-1)]: Done  26 tasks      | elapsed:    0.0s\n",
      "[Parallel(n_jobs=-1)]: Done 100 out of 100 | elapsed:    0.0s finished\n",
      "[Parallel(n_jobs=12)]: Using backend ThreadingBackend with 12 concurrent workers.\n",
      "[Parallel(n_jobs=12)]: Done  26 tasks      | elapsed:    0.0s\n",
      "[Parallel(n_jobs=12)]: Done 100 out of 100 | elapsed:    0.0s finished\n"
     ]
    }
   ],
   "source": [
    "# Fit the grid search to the data\n",
    "grid_search.fit(X_train, y_train)\n",
    "grid_search.best_params_\n",
    "\n",
    "\n",
    "best_grid = grid_search.best_estimator_\n",
    "grid_accuracy = evaluate(best_grid, X_test, y_test)"
   ]
  },
  {
   "cell_type": "markdown",
   "metadata": {},
   "source": [
    "* Accuracy = 82.71%, we have so a perfect model which can affort good price predictions to our passengers "
   ]
  },
  {
   "cell_type": "code",
   "execution_count": null,
   "metadata": {},
   "outputs": [],
   "source": []
  }
 ],
 "metadata": {
  "kernelspec": {
   "display_name": "Python 3",
   "language": "python",
   "name": "python3"
  },
  "language_info": {
   "codemirror_mode": {
    "name": "ipython",
    "version": 3
   },
   "file_extension": ".py",
   "mimetype": "text/x-python",
   "name": "python",
   "nbconvert_exporter": "python",
   "pygments_lexer": "ipython3",
   "version": "3.8.3"
  }
 },
 "nbformat": 4,
 "nbformat_minor": 4
}
